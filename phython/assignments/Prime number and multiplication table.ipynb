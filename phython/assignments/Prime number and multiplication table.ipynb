{
 "cells": [
  {
   "cell_type": "markdown",
   "id": "b25b9cdc",
   "metadata": {},
   "source": [
    "Question 1 : Prime number"
   ]
  },
  {
   "cell_type": "code",
   "execution_count": null,
   "id": "27872267",
   "metadata": {},
   "outputs": [],
   "source": [
    "number=int(input('Please enter the number:'))\n",
    "for i in range(2,number):\n",
    "    if number % i==0:\n",
    "        print('The number is prime number')\n",
    "        break\n",
    "    else:\n",
    "        print('The number is not prime number')\n",
    "        break"
   ]
  },
  {
   "cell_type": "markdown",
   "id": "76f4a991",
   "metadata": {},
   "source": [
    "Question 2 : Multiplication table"
   ]
  },
  {
   "cell_type": "code",
   "execution_count": null,
   "id": "80b2ce26",
   "metadata": {},
   "outputs": [],
   "source": [
    "number=int(input(\"Please enter the number:\"))\n",
    "for i in range(1,11):\n",
    "    print(number,\"*\",i,\"=\",n*i)"
   ]
  }
 ],
 "metadata": {
  "kernelspec": {
   "display_name": "Python 3",
   "language": "python",
   "name": "python3"
  },
  "language_info": {
   "codemirror_mode": {
    "name": "ipython",
    "version": 3
   },
   "file_extension": ".py",
   "mimetype": "text/x-python",
   "name": "python",
   "nbconvert_exporter": "python",
   "pygments_lexer": "ipython3",
   "version": "3.8.8"
  }
 },
 "nbformat": 4,
 "nbformat_minor": 5
}
