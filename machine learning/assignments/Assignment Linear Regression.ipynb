{
 "cells": [
  {
   "cell_type": "markdown",
   "id": "1e703dae",
   "metadata": {},
   "source": [
    "Linear Regression\n",
    "--------------------------"
   ]
  },
  {
   "cell_type": "markdown",
   "id": "43edbd07",
   "metadata": {},
   "source": [
    "Let us consider a data set where we have a value of response y for every feature x: \n",
    "\n",
    "Data Set:\n",
    "\n",
    "x=np.array([1,2,3,4,5,6,7,8,9,10])\n",
    "\n",
    "y=np.array([100,200,500,600,900,920,940,980,1100,1500])"
   ]
  },
  {
   "cell_type": "markdown",
   "id": "92a747d1",
   "metadata": {},
   "source": [
    "Agenda:\n",
    "\n",
    "The task is to find a line of best fit so that we can predict the response for any new feature values. (if a value of x is not present in the dataset). This line is called a regression line. The equation of regression line is represented as:\n",
    "\n",
    "Y=mx+c   or\n",
    "\n",
    "Y=b0+b1(x)+b2(x)"
   ]
  },
  {
   "cell_type": "code",
   "execution_count": 9,
   "id": "437d24fe",
   "metadata": {},
   "outputs": [],
   "source": [
    "import pandas as pd\n",
    "import numpy as np\n",
    "import seaborn as sns\n",
    "import matplotlib.pyplot as plt\n",
    "%matplotlib inline\n",
    "import math"
   ]
  },
  {
   "cell_type": "code",
   "execution_count": 10,
   "id": "048f9168",
   "metadata": {},
   "outputs": [],
   "source": [
    "#Copy the small data set given into the workspace"
   ]
  },
  {
   "cell_type": "code",
   "execution_count": 11,
   "id": "5ce95939",
   "metadata": {},
   "outputs": [],
   "source": [
    "x=np.array([1,2,3,4,5,6,7,8,9,10]).reshape((-1, 1))\n",
    "\n",
    "y=np.array([100,200,500,600,900,920,940,980,1100,1500])"
   ]
  },
  {
   "cell_type": "code",
   "execution_count": 12,
   "id": "671c6d97",
   "metadata": {},
   "outputs": [],
   "source": [
    "# Assume values with different formulae into b0 and b1(x) and so on..\n",
    "# Now plot the graph based on calculated values and create some random predicted values\n",
    "# Finally, now we estimate the coefficient created\n",
    "# Predict the values.\n",
    "# Plot the graph."
   ]
  },
  {
   "cell_type": "code",
   "execution_count": 32,
   "id": "ede66959",
   "metadata": {},
   "outputs": [
    {
     "data": {
      "image/png": "[encoded data removed]",
      "text/plain": [
       "<Figure size 360x360 with 1 Axes>"
      ]
     },
     "metadata": {
      "needs_background": "light"
     },
     "output_type": "display_data"
    }
   ],
   "source": [
    "plt.figure(figsize=(5, 5))\n",
    "plt.scatter(x,y,s=30)\n",
    "plt.xlabel('x')\n",
    "plt.ylabel('y')\n",
    "plt.show()"
   ]
  },
  {
   "cell_type": "code",
   "execution_count": 14,
   "id": "7e302540",
   "metadata": {},
   "outputs": [],
   "source": [
    "from sklearn.linear_model import LinearRegression\n",
    "from sklearn.metrics import mean_squared_error\n",
    "from sklearn.metrics import r2_score"
   ]
  },
  {
   "cell_type": "code",
   "execution_count": 15,
   "id": "2ffd6149",
   "metadata": {},
   "outputs": [
    {
     "data": {
      "text/plain": [
       "LinearRegression()"
      ]
     },
     "execution_count": 15,
     "metadata": {},
     "output_type": "execute_result"
    }
   ],
   "source": [
    "lin_model = LinearRegression()\n",
    "lin_model.fit(x,y)"
   ]
  },
  {
   "cell_type": "code",
   "execution_count": 16,
   "id": "305ede13",
   "metadata": {},
   "outputs": [],
   "source": [
    "r2 = lin_model.score(x, y)"
   ]
  },
  {
   "cell_type": "code",
   "execution_count": 17,
   "id": "0775eef8",
   "metadata": {},
   "outputs": [
    {
     "name": "stdout",
     "output_type": "stream",
     "text": [
      "coefficient of determination: 0.9280272348680095\n"
     ]
    }
   ],
   "source": [
    "print('coefficient of determination:', r2)"
   ]
  },
  {
   "cell_type": "code",
   "execution_count": 23,
   "id": "60e50770",
   "metadata": {},
   "outputs": [],
   "source": [
    "import random\n",
    "new_x = np.random.randint(1, 30, 10).reshape((-1, 1))\n",
    "new_y = lin_model.predict(new_x)"
   ]
  },
  {
   "cell_type": "code",
   "execution_count": 24,
   "id": "b0798abf",
   "metadata": {},
   "outputs": [
    {
     "name": "stdout",
     "output_type": "stream",
     "text": [
      "[[ 5]\n",
      " [20]\n",
      " [20]\n",
      " [ 6]\n",
      " [18]\n",
      " [27]\n",
      " [21]\n",
      " [18]\n",
      " [11]\n",
      " [21]]\n"
     ]
    }
   ],
   "source": [
    "print(new_x)"
   ]
  },
  {
   "cell_type": "code",
   "execution_count": 25,
   "id": "15f2e32d",
   "metadata": {},
   "outputs": [
    {
     "name": "stdout",
     "output_type": "stream",
     "text": [
      "[ 706.3030303  2737.21212121 2737.21212121  841.6969697  2466.42424242\n",
      " 3684.96969697 2872.60606061 2466.42424242 1518.66666667 2872.60606061]\n"
     ]
    }
   ],
   "source": [
    "print(new_y)"
   ]
  },
  {
   "cell_type": "code",
   "execution_count": 36,
   "id": "1e193657",
   "metadata": {},
   "outputs": [
    {
     "data": {
      "image/png": "[encoded data removed]",
      "text/plain": [
       "<Figure size 360x360 with 1 Axes>"
      ]
     },
     "metadata": {
      "needs_background": "light"
     },
     "output_type": "display_data"
    }
   ],
   "source": [
    "plt.figure(figsize=(5, 5))\n",
    "ax = plt.axes()\n",
    "ax.scatter(x, y)\n",
    "ax.scatter(new_x, new_y)# predicted values\n",
    "ax.plot(new_x, new_y)\n",
    "ax.set_xlabel('x')\n",
    "ax.set_ylabel('y')\n",
    "plt.show()"
   ]
  }
 ],
 "metadata": {
  "kernelspec": {
   "display_name": "Python 3",
   "language": "python",
   "name": "python3"
  },
  "language_info": {
   "codemirror_mode": {
    "name": "ipython",
    "version": 3
   },
   "file_extension": ".py",
   "mimetype": "text/x-python",
   "name": "python",
   "nbconvert_exporter": "python",
   "pygments_lexer": "ipython3",
   "version": "3.8.8"
  }
 },
 "nbformat": 4,
 "nbformat_minor": 5
}
