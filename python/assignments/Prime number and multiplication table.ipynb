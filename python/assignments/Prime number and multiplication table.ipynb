{
 "cells": [
  {
   "cell_type": "markdown",
   "id": "b25b9cdc",
   "metadata": {},
   "source": [
    "Question 1 : Prime number"
   ]
  },
  {
   "cell_type": "code",
   "execution_count": 7,
   "id": "27872267",
   "metadata": {},
   "outputs": [
    {
     "name": "stdout",
     "output_type": "stream",
     "text": [
      "Please enter the number:4\n",
      "The number is prime number\n"
     ]
    }
   ],
   "source": [
    "number=int(input('Please enter the number:'))\n",
    "for i in range(2,number):\n",
    "    if number % i==0:\n",
    "        print('The number is prime number')\n",
    "        break\n",
    "    else:\n",
    "        print('The number is not prime number')\n",
    "        break"
   ]
  },
  {
   "cell_type": "markdown",
   "id": "76f4a991",
   "metadata": {},
   "source": [
    "Question 2 : Multiplication table"
   ]
  },
  {
   "cell_type": "code",
   "execution_count": 6,
   "id": "80b2ce26",
   "metadata": {},
   "outputs": [
    {
     "name": "stdout",
     "output_type": "stream",
     "text": [
      "Please enter the number:12\n",
      "12 * 1 = 12\n",
      "12 * 2 = 24\n",
      "12 * 3 = 36\n",
      "12 * 4 = 48\n",
      "12 * 5 = 60\n",
      "12 * 6 = 72\n",
      "12 * 7 = 84\n",
      "12 * 8 = 96\n",
      "12 * 9 = 108\n",
      "12 * 10 = 120\n"
     ]
    }
   ],
   "source": [
    "number=int(input(\"Please enter the number:\"))\n",
    "for i in range(1,11):\n",
    "    print(number,\"*\",i,\"=\",number*i)"
   ]
  }
 ],
 "metadata": {
  "kernelspec": {
   "display_name": "Python 3",
   "language": "python",
   "name": "python3"
  },
  "language_info": {
   "codemirror_mode": {
    "name": "ipython",
    "version": 3
   },
   "file_extension": ".py",
   "mimetype": "text/x-python",
   "name": "python",
   "nbconvert_exporter": "python",
   "pygments_lexer": "ipython3",
   "version": "3.8.8"
  }
 },
 "nbformat": 4,
 "nbformat_minor": 5
}
