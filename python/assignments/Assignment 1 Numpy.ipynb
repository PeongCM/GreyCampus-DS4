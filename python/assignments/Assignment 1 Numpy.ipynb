{
 "cells": [
  {
   "cell_type": "markdown",
   "id": "731399bd",
   "metadata": {},
   "source": [
    "Assignment 1\n",
    "------------"
   ]
  },
  {
   "cell_type": "markdown",
   "id": "5002bc0f",
   "metadata": {},
   "source": [
    "1.\tImport the Numpy package under the name np"
   ]
  },
  {
   "cell_type": "code",
   "execution_count": 16,
   "id": "63feba2a",
   "metadata": {},
   "outputs": [],
   "source": [
    "import numpy as np"
   ]
  },
  {
   "cell_type": "markdown",
   "id": "20fa7081",
   "metadata": {},
   "source": [
    "2.\tCreate a null vector of size 10"
   ]
  },
  {
   "cell_type": "code",
   "execution_count": 4,
   "id": "c045c1a7",
   "metadata": {},
   "outputs": [
    {
     "data": {
      "text/plain": [
       "array([0., 0., 0., 0., 0., 0., 0., 0., 0., 0.])"
      ]
     },
     "execution_count": 4,
     "metadata": {},
     "output_type": "execute_result"
    }
   ],
   "source": [
    "a=np.zeros(10)\n",
    "a"
   ]
  },
  {
   "cell_type": "markdown",
   "id": "2328e2e3",
   "metadata": {},
   "source": [
    "3.\tCreate a null vector of size 10 but the fifth value which is 1"
   ]
  },
  {
   "cell_type": "code",
   "execution_count": 9,
   "id": "3d4f4aaa",
   "metadata": {},
   "outputs": [
    {
     "data": {
      "text/plain": [
       "array([0., 0., 0., 0., 1., 0., 0., 0., 0., 0.])"
      ]
     },
     "execution_count": 9,
     "metadata": {},
     "output_type": "execute_result"
    }
   ],
   "source": [
    "b=a.copy()\n",
    "b[4]=1\n",
    "b"
   ]
  },
  {
   "cell_type": "markdown",
   "id": "3295a4d0",
   "metadata": {},
   "source": [
    "4.\tCreate a vector with values ranging from 10 to 49"
   ]
  },
  {
   "cell_type": "code",
   "execution_count": 12,
   "id": "2b9d274c",
   "metadata": {},
   "outputs": [
    {
     "data": {
      "text/plain": [
       "array([10, 11, 12, 13, 14, 15, 16, 17, 18, 19, 20, 21, 22, 23, 24, 25, 26,\n",
       "       27, 28, 29, 30, 31, 32, 33, 34, 35, 36, 37, 38, 39, 40, 41, 42, 43,\n",
       "       44, 45, 46, 47, 48])"
      ]
     },
     "execution_count": 12,
     "metadata": {},
     "output_type": "execute_result"
    }
   ],
   "source": [
    "c=np.arange(10,49)\n",
    "c"
   ]
  },
  {
   "cell_type": "markdown",
   "id": "f9d14ed8",
   "metadata": {},
   "source": [
    "5.\tReverse a vector (the first element becomes last)"
   ]
  },
  {
   "cell_type": "code",
   "execution_count": 23,
   "id": "ea3e3559",
   "metadata": {},
   "outputs": [
    {
     "data": {
      "text/plain": [
       "array([48, 47, 46, 45, 44, 43, 42, 41, 40, 39, 38, 37, 36, 35, 34, 33, 32,\n",
       "       31, 30, 29, 28, 27, 26, 25, 24, 23, 22, 21, 20, 19, 18, 17, 16, 15,\n",
       "       14, 13, 12, 11, 10])"
      ]
     },
     "execution_count": 23,
     "metadata": {},
     "output_type": "execute_result"
    }
   ],
   "source": [
    "c1=np.flip(c)\n",
    "c1"
   ]
  },
  {
   "cell_type": "markdown",
   "id": "1881657f",
   "metadata": {},
   "source": [
    "6.\tCreate a 3x3 matrix with values ranging from 0 to 8"
   ]
  },
  {
   "cell_type": "code",
   "execution_count": 40,
   "id": "ca762eb4",
   "metadata": {},
   "outputs": [
    {
     "data": {
      "text/plain": [
       "matrix([[0, 1, 2],\n",
       "        [3, 4, 5],\n",
       "        [6, 7, 8]])"
      ]
     },
     "execution_count": 40,
     "metadata": {},
     "output_type": "execute_result"
    }
   ],
   "source": [
    "d=np.matrix(range(9))\n",
    "d.shape=(3,3)\n",
    "d"
   ]
  },
  {
   "cell_type": "markdown",
   "id": "32d02ee9",
   "metadata": {},
   "source": [
    "7.\tFind indices of non¬zero elements from [1,2,0,0,4,0]"
   ]
  },
  {
   "cell_type": "code",
   "execution_count": 44,
   "id": "a5db8e19",
   "metadata": {},
   "outputs": [
    {
     "data": {
      "text/plain": [
       "[0, 1, 4]"
      ]
     },
     "execution_count": 44,
     "metadata": {},
     "output_type": "execute_result"
    }
   ],
   "source": [
    "e=[1,2,0,0,4,0]\n",
    "non_zero_indices=[e.index(i)for i in e if i!=0]\n",
    "non_zero_indices"
   ]
  },
  {
   "cell_type": "markdown",
   "id": "02171eae",
   "metadata": {},
   "source": [
    "8.\tCreate a 3x3x3 array with random values"
   ]
  },
  {
   "cell_type": "code",
   "execution_count": 52,
   "id": "a8349d4d",
   "metadata": {},
   "outputs": [
    {
     "data": {
      "text/plain": [
       "array([[[18, 27, 31],\n",
       "        [14, 23, 12],\n",
       "        [25, 15, 42]],\n",
       "\n",
       "       [[22, 21, 12],\n",
       "        [16, 19, 34],\n",
       "        [29, 45, 20]],\n",
       "\n",
       "       [[ 8, 19, 12],\n",
       "        [33, 22, 44],\n",
       "        [22, 28, 39]]])"
      ]
     },
     "execution_count": 52,
     "metadata": {},
     "output_type": "execute_result"
    }
   ],
   "source": [
    "import random\n",
    "f=np.random.randint(5,50,(3,3,3))\n",
    "f"
   ]
  },
  {
   "cell_type": "markdown",
   "id": "f0b0e0e8",
   "metadata": {},
   "source": [
    "9.\tCreate a random vector of size 30 and find the mean value"
   ]
  },
  {
   "cell_type": "code",
   "execution_count": 59,
   "id": "3dc570bc",
   "metadata": {},
   "outputs": [
    {
     "data": {
      "text/plain": [
       "53.3"
      ]
     },
     "execution_count": 59,
     "metadata": {},
     "output_type": "execute_result"
    }
   ],
   "source": [
    "g=np.array([random.randint(1,100)for i in range(30)])\n",
    "g\n",
    "g.mean()"
   ]
  },
  {
   "cell_type": "markdown",
   "id": "a1e7e88c",
   "metadata": {},
   "source": [
    "10.\tCreate a 2d array with 1 on the border and 0 inside"
   ]
  },
  {
   "cell_type": "code",
   "execution_count": 67,
   "id": "b298b6ac",
   "metadata": {},
   "outputs": [
    {
     "name": "stdout",
     "output_type": "stream",
     "text": [
      "2D array\n",
      " [[0 0 0]\n",
      " [0 1 0]\n",
      " [1 1 1]]\n",
      "Dimension:  2\n"
     ]
    }
   ],
   "source": [
    "h=np.array([[0,0,0],[0,1,0],[1,1,1]])\n",
    "print(\"2D array\\n\",h)\n",
    "print(\"Dimension: \",h.ndim)"
   ]
  },
  {
   "cell_type": "markdown",
   "id": "9b0edd3a",
   "metadata": {},
   "source": [
    "11.\tCreate an 8x8 matrix and fill it with a checkerboard pattern"
   ]
  },
  {
   "cell_type": "code",
   "execution_count": 87,
   "id": "671425b5",
   "metadata": {},
   "outputs": [
    {
     "data": {
      "text/plain": [
       "array([[1., 0., 1., 0., 1., 0., 1., 0.],\n",
       "       [0., 1., 0., 1., 0., 1., 0., 1.],\n",
       "       [1., 0., 1., 0., 1., 0., 1., 0.],\n",
       "       [0., 1., 0., 1., 0., 1., 0., 1.],\n",
       "       [1., 0., 1., 0., 1., 0., 1., 0.],\n",
       "       [0., 1., 0., 1., 0., 1., 0., 1.],\n",
       "       [1., 0., 1., 0., 1., 0., 1., 0.],\n",
       "       [0., 1., 0., 1., 0., 1., 0., 1.]])"
      ]
     },
     "execution_count": 87,
     "metadata": {},
     "output_type": "execute_result"
    }
   ],
   "source": [
    "k=np.ones((8,8))\n",
    "k[1::2,::2]=0\n",
    "k[::2,1::2]=0\n",
    "k"
   ]
  },
  {
   "cell_type": "markdown",
   "id": "76927ec0",
   "metadata": {},
   "source": [
    "12.\tWhat is the major difference between sets, lists, tuples, and dictionaries?"
   ]
  },
  {
   "cell_type": "markdown",
   "id": "5c7c733e",
   "metadata": {},
   "source": [
    "sets\n",
    "------\n",
    "-denoted by {}\n",
    "-unordered data structure\n",
    "-no duplicates\n",
    "-mutable\n",
    "-Boolean is excluded\n",
    "\n",
    "lists\n",
    "------\n",
    "-denoted by []\n",
    "-ordered data structure\n",
    "-allow all data types\n",
    "-allow duplicates\n",
    "-mutable\n",
    "\n",
    "tuples\n",
    "---------\n",
    "-denoted by ()\n",
    "-ordered data structure\n",
    "-allow all data types\n",
    "-allow duplicates\n",
    "-immutable\n",
    "\n",
    "dictionaries\n",
    "-----------------\n",
    "-denoted by {}\n",
    "-mapping based data structure,pairwise elements\n",
    "-unordered data structure\n",
    "-allow all data types\n",
    "-overwrite the duplicates\n",
    "-mutable\n",
    "\n"
   ]
  },
  {
   "cell_type": "markdown",
   "id": "ffaba1d7",
   "metadata": {},
   "source": [
    "13.\tPrint first 10 natural numbers using while loop"
   ]
  },
  {
   "cell_type": "code",
   "execution_count": 91,
   "id": "363319a6",
   "metadata": {},
   "outputs": [
    {
     "name": "stdout",
     "output_type": "stream",
     "text": [
      "0\n",
      "1\n",
      "2\n",
      "3\n",
      "4\n",
      "5\n",
      "6\n",
      "7\n",
      "8\n",
      "9\n"
     ]
    }
   ],
   "source": [
    "n=0\n",
    "while n!=10:\n",
    "    print(n)\n",
    "    n+=1"
   ]
  },
  {
   "cell_type": "markdown",
   "id": "fd6d92f5",
   "metadata": {},
   "source": [
    "14.\tPrint the numbers -10 to -1 using for loop."
   ]
  },
  {
   "cell_type": "code",
   "execution_count": 95,
   "id": "61529674",
   "metadata": {},
   "outputs": [
    {
     "name": "stdout",
     "output_type": "stream",
     "text": [
      "-10\n",
      "-9\n",
      "-8\n",
      "-7\n",
      "-6\n",
      "-5\n",
      "-4\n",
      "-3\n",
      "-2\n",
      "-1\n"
     ]
    }
   ],
   "source": [
    "for i in range(-10,0):\n",
    "    print(i)"
   ]
  },
  {
   "cell_type": "markdown",
   "id": "bf9f5221",
   "metadata": {},
   "source": [
    "15.\tPrint the message “Done” after successful execution of any for loop. "
   ]
  },
  {
   "cell_type": "code",
   "execution_count": 5,
   "id": "6e9d5954",
   "metadata": {},
   "outputs": [
    {
     "name": "stdout",
     "output_type": "stream",
     "text": [
      "Please enter a number from 1 to 10: 4\n",
      "Try again\n",
      "Please enter a number from 1 to 10: 5\n",
      "Done\n"
     ]
    }
   ],
   "source": [
    "for i in range(3):\n",
    "    input(\"Please enter a number from 1 to 10: \")\n",
    "    if i%2==0:\n",
    "        print(\"Try again\")      \n",
    "    else:\n",
    "        print(\"Done\")\n",
    "        break"
   ]
  },
  {
   "cell_type": "markdown",
   "id": "cb165788",
   "metadata": {},
   "source": [
    "16.\tCreate a random vector of size 10 and sort it"
   ]
  },
  {
   "cell_type": "code",
   "execution_count": 30,
   "id": "8477216c",
   "metadata": {},
   "outputs": [
    {
     "data": {
      "text/plain": [
       "array([30, 32, 60, 65, 70, 73, 78, 80, 87, 97])"
      ]
     },
     "execution_count": 30,
     "metadata": {},
     "output_type": "execute_result"
    }
   ],
   "source": [
    "l=np.random.randint(1,100,(10))\n",
    "np.sort(l,axis=0)"
   ]
  },
  {
   "cell_type": "markdown",
   "id": "effe5ce9",
   "metadata": {},
   "source": [
    "17.\tExecute any three math functions using numpy."
   ]
  },
  {
   "cell_type": "code",
   "execution_count": 39,
   "id": "06fed9c2",
   "metadata": {},
   "outputs": [
    {
     "name": "stdout",
     "output_type": "stream",
     "text": [
      "Mean = 67.2\n",
      "Standard Deviation = 20.69\n",
      "Total = 672\n"
     ]
    }
   ],
   "source": [
    "print(\"Mean =\", l.mean())\n",
    "print(\"Standard Deviation =\", round(l.std(),2))\n",
    "print(\"Total =\", l.sum())"
   ]
  }
 ],
 "metadata": {
  "kernelspec": {
   "display_name": "Python 3",
   "language": "python",
   "name": "python3"
  },
  "language_info": {
   "codemirror_mode": {
    "name": "ipython",
    "version": 3
   },
   "file_extension": ".py",
   "mimetype": "text/x-python",
   "name": "python",
   "nbconvert_exporter": "python",
   "pygments_lexer": "ipython3",
   "version": "3.8.8"
  }
 },
 "nbformat": 4,
 "nbformat_minor": 5
}
