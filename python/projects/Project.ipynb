{
 "cells": [
  {
   "cell_type": "markdown",
   "id": "e3254c21",
   "metadata": {},
   "source": [
    "Final Python Project\n",
    "-----------------------------"
   ]
  },
  {
   "cell_type": "code",
   "execution_count": 54,
   "id": "31d78f7c",
   "metadata": {},
   "outputs": [],
   "source": [
    "import pandas as pd\n",
    "import numpy as np\n",
    "from matplotlib import pyplot as plt\n",
    "import seaborn as sns"
   ]
  },
  {
   "cell_type": "code",
   "execution_count": 55,
   "id": "929848d8",
   "metadata": {},
   "outputs": [],
   "source": [
    "workbook_path='C:\\\\Users\\\\User\\\\Documents\\\\Data Science\\\\imus.xlsx'\n",
    "all_dfs=pd.read_excel(workbook_path,sheet_name=None)"
   ]
  },
  {
   "cell_type": "code",
   "execution_count": 56,
   "id": "71a5780b",
   "metadata": {},
   "outputs": [
    {
     "data": {
      "text/plain": [
       "dict_keys(['2020-08-17', '2020-08-18', '2020-08-19', '2020-08-20', '2020-08-21', '2020-08-24', '2020-08-25', '2020-08-26', '2020-08-27', '2020-08-28'])"
      ]
     },
     "execution_count": 56,
     "metadata": {},
     "output_type": "execute_result"
    }
   ],
   "source": [
    "all_dfs.keys()"
   ]
  },
  {
   "cell_type": "code",
   "execution_count": 57,
   "id": "0bd56627",
   "metadata": {},
   "outputs": [
    {
     "data": {
      "text/html": [
       "<div>\n",
       "<style scoped>\n",
       "    .dataframe tbody tr th:only-of-type {\n",
       "        vertical-align: middle;\n",
       "    }\n",
       "\n",
       "    .dataframe tbody tr th {\n",
       "        vertical-align: top;\n",
       "    }\n",
       "\n",
       "    .dataframe thead th {\n",
       "        text-align: right;\n",
       "    }\n",
       "</style>\n",
       "<table border=\"1\" class=\"dataframe\">\n",
       "  <thead>\n",
       "    <tr style=\"text-align: right;\">\n",
       "      <th></th>\n",
       "      <th>category</th>\n",
       "      <th>manufacturer</th>\n",
       "      <th>part_number</th>\n",
       "      <th>sku</th>\n",
       "      <th>alt_sku</th>\n",
       "      <th>description</th>\n",
       "      <th>status</th>\n",
       "      <th>qty</th>\n",
       "      <th>price</th>\n",
       "      <th>sku_create_date</th>\n",
       "    </tr>\n",
       "  </thead>\n",
       "  <tbody>\n",
       "    <tr>\n",
       "      <th>0</th>\n",
       "      <td>1539</td>\n",
       "      <td>MS-OPEN VALUE SUBSCRIPTION</td>\n",
       "      <td>021-09108</td>\n",
       "      <td>BA0011</td>\n",
       "      <td>NaN</td>\n",
       "      <td>1YR OFFICESTD ALNG LICSAPK OLV, D AP</td>\n",
       "      <td>No Stock</td>\n",
       "      <td>0</td>\n",
       "      <td>143.58</td>\n",
       "      <td>2020-08-17</td>\n",
       "    </tr>\n",
       "    <tr>\n",
       "      <th>1</th>\n",
       "      <td>1539</td>\n",
       "      <td>MS-OPEN VALUE SUBSCRIPTION</td>\n",
       "      <td>059-07014</td>\n",
       "      <td>BA0025</td>\n",
       "      <td>NaN</td>\n",
       "      <td>1YR WORD ALNG LICSAPK OLV D AP,</td>\n",
       "      <td>No Stock</td>\n",
       "      <td>0</td>\n",
       "      <td>56.09</td>\n",
       "      <td>2020-08-17</td>\n",
       "    </tr>\n",
       "  </tbody>\n",
       "</table>\n",
       "</div>"
      ],
      "text/plain": [
       "   category                manufacturer part_number     sku alt_sku  \\\n",
       "0      1539  MS-OPEN VALUE SUBSCRIPTION   021-09108  BA0011     NaN   \n",
       "1      1539  MS-OPEN VALUE SUBSCRIPTION   059-07014  BA0025     NaN   \n",
       "\n",
       "                            description    status  qty   price sku_create_date  \n",
       "0  1YR OFFICESTD ALNG LICSAPK OLV, D AP  No Stock    0  143.58      2020-08-17  \n",
       "1       1YR WORD ALNG LICSAPK OLV D AP,  No Stock    0   56.09      2020-08-17  "
      ]
     },
     "execution_count": 57,
     "metadata": {},
     "output_type": "execute_result"
    }
   ],
   "source": [
    "all_dfs['2020-08-17'].head(2)"
   ]
  },
  {
   "cell_type": "code",
   "execution_count": 58,
   "id": "9b27f83e",
   "metadata": {},
   "outputs": [
    {
     "data": {
      "text/plain": [
       "Index(['category', 'manufacturer', 'part_number', 'sku', 'alt_sku',\n",
       "       'description', 'status', 'qty', 'price', 'sku_create_date'],\n",
       "      dtype='object')"
      ]
     },
     "execution_count": 58,
     "metadata": {},
     "output_type": "execute_result"
    }
   ],
   "source": [
    "all_dfs['2020-08-18'].columns"
   ]
  },
  {
   "cell_type": "code",
   "execution_count": 7,
   "id": "f94c1aac",
   "metadata": {},
   "outputs": [
    {
     "data": {
      "text/plain": [
       "Index(['category', 'manufacturer', 'part_number', 'sku', 'alt_sku',\n",
       "       'description', 'status', 'qty', 'price', 'sku_create_date'],\n",
       "      dtype='object')"
      ]
     },
     "execution_count": 7,
     "metadata": {},
     "output_type": "execute_result"
    }
   ],
   "source": [
    "all_dfs['2020-08-19'].columns"
   ]
  },
  {
   "cell_type": "code",
   "execution_count": 8,
   "id": "a0505291",
   "metadata": {},
   "outputs": [
    {
     "data": {
      "text/plain": [
       "Index(['category', 'manufacturer', 'part_number', 'sku', 'alt_sku',\n",
       "       'description', 'status', 'qty', 'price', 'sku_create_date'],\n",
       "      dtype='object')"
      ]
     },
     "execution_count": 8,
     "metadata": {},
     "output_type": "execute_result"
    }
   ],
   "source": [
    "all_dfs['2020-08-20'].columns"
   ]
  },
  {
   "cell_type": "code",
   "execution_count": 179,
   "id": "1b3af29d",
   "metadata": {},
   "outputs": [
    {
     "data": {
      "text/plain": [
       "Index(['category', 'manufacturer', 'part_number', 'sku', 'alt_sku',\n",
       "       'description', 'status', 'qty', 'price', 'sku_create_date'],\n",
       "      dtype='object')"
      ]
     },
     "execution_count": 179,
     "metadata": {},
     "output_type": "execute_result"
    }
   ],
   "source": [
    "all_dfs['2020-08-21'].columns"
   ]
  },
  {
   "cell_type": "code",
   "execution_count": 180,
   "id": "866a0bc0",
   "metadata": {},
   "outputs": [
    {
     "data": {
      "text/plain": [
       "Index(['category', 'manufacturer', 'part_number', 'sku', 'alt_sku',\n",
       "       'description', 'status', 'qty', 'price', 'sku_create_date'],\n",
       "      dtype='object')"
      ]
     },
     "execution_count": 180,
     "metadata": {},
     "output_type": "execute_result"
    }
   ],
   "source": [
    "all_dfs['2020-08-24'].columns"
   ]
  },
  {
   "cell_type": "code",
   "execution_count": 181,
   "id": "650c8762",
   "metadata": {},
   "outputs": [
    {
     "data": {
      "text/plain": [
       "Index(['category', 'manufacturer', 'part_number', 'sku', 'alt_sku',\n",
       "       'description', 'status', 'qty', 'price', 'sku_create_date'],\n",
       "      dtype='object')"
      ]
     },
     "execution_count": 181,
     "metadata": {},
     "output_type": "execute_result"
    }
   ],
   "source": [
    "all_dfs['2020-08-25'].columns"
   ]
  },
  {
   "cell_type": "code",
   "execution_count": 182,
   "id": "90df12e2",
   "metadata": {},
   "outputs": [
    {
     "data": {
      "text/plain": [
       "Index(['category', 'manufacturer', 'part_number', 'sku', 'alt_sku',\n",
       "       'description', 'status', 'qty', 'price', 'sku_create_date'],\n",
       "      dtype='object')"
      ]
     },
     "execution_count": 182,
     "metadata": {},
     "output_type": "execute_result"
    }
   ],
   "source": [
    "all_dfs['2020-08-26'].columns"
   ]
  },
  {
   "cell_type": "code",
   "execution_count": 183,
   "id": "5024b079",
   "metadata": {},
   "outputs": [
    {
     "data": {
      "text/plain": [
       "Index(['category', 'manufacturer', 'part_number', 'sku', 'alt_sku',\n",
       "       'description', 'status', 'qty', 'price', 'sku_create_date'],\n",
       "      dtype='object')"
      ]
     },
     "execution_count": 183,
     "metadata": {},
     "output_type": "execute_result"
    }
   ],
   "source": [
    "all_dfs['2020-08-27'].columns"
   ]
  },
  {
   "cell_type": "code",
   "execution_count": 184,
   "id": "64834758",
   "metadata": {},
   "outputs": [
    {
     "data": {
      "text/plain": [
       "Index(['category', 'manufacturer', 'part_number', 'sku', 'alt_sku',\n",
       "       'description', 'status', 'qty', 'price', 'sku_create_date'],\n",
       "      dtype='object')"
      ]
     },
     "execution_count": 184,
     "metadata": {},
     "output_type": "execute_result"
    }
   ],
   "source": [
    "all_dfs['2020-08-28'].columns"
   ]
  },
  {
   "cell_type": "code",
   "execution_count": 59,
   "id": "31632c1a",
   "metadata": {},
   "outputs": [],
   "source": [
    "df=pd.concat(all_dfs,ignore_index=True)"
   ]
  },
  {
   "cell_type": "code",
   "execution_count": 60,
   "id": "98dd5668",
   "metadata": {},
   "outputs": [
    {
     "data": {
      "text/html": [
       "<div>\n",
       "<style scoped>\n",
       "    .dataframe tbody tr th:only-of-type {\n",
       "        vertical-align: middle;\n",
       "    }\n",
       "\n",
       "    .dataframe tbody tr th {\n",
       "        vertical-align: top;\n",
       "    }\n",
       "\n",
       "    .dataframe thead th {\n",
       "        text-align: right;\n",
       "    }\n",
       "</style>\n",
       "<table border=\"1\" class=\"dataframe\">\n",
       "  <thead>\n",
       "    <tr style=\"text-align: right;\">\n",
       "      <th></th>\n",
       "      <th>category</th>\n",
       "      <th>manufacturer</th>\n",
       "      <th>part_number</th>\n",
       "      <th>sku</th>\n",
       "      <th>alt_sku</th>\n",
       "      <th>description</th>\n",
       "      <th>status</th>\n",
       "      <th>qty</th>\n",
       "      <th>price</th>\n",
       "      <th>sku_create_date</th>\n",
       "    </tr>\n",
       "  </thead>\n",
       "  <tbody>\n",
       "    <tr>\n",
       "      <th>0</th>\n",
       "      <td>1539</td>\n",
       "      <td>MS-OPEN VALUE SUBSCRIPTION</td>\n",
       "      <td>021-09108</td>\n",
       "      <td>BA0011</td>\n",
       "      <td>NaN</td>\n",
       "      <td>1YR OFFICESTD ALNG LICSAPK OLV, D AP</td>\n",
       "      <td>No Stock</td>\n",
       "      <td>0</td>\n",
       "      <td>143.58</td>\n",
       "      <td>2020-08-17</td>\n",
       "    </tr>\n",
       "    <tr>\n",
       "      <th>1</th>\n",
       "      <td>1539</td>\n",
       "      <td>MS-OPEN VALUE SUBSCRIPTION</td>\n",
       "      <td>059-07014</td>\n",
       "      <td>BA0025</td>\n",
       "      <td>NaN</td>\n",
       "      <td>1YR WORD ALNG LICSAPK OLV D AP,</td>\n",
       "      <td>No Stock</td>\n",
       "      <td>0</td>\n",
       "      <td>56.09</td>\n",
       "      <td>2020-08-17</td>\n",
       "    </tr>\n",
       "    <tr>\n",
       "      <th>2</th>\n",
       "      <td>1539</td>\n",
       "      <td>MS-OPEN VALUE SUBSCRIPTION</td>\n",
       "      <td>065-06444</td>\n",
       "      <td>BA0039</td>\n",
       "      <td>NaN</td>\n",
       "      <td>1YR EXCEL ALNG LICSAPK OLV D AP,</td>\n",
       "      <td>No Stock</td>\n",
       "      <td>0</td>\n",
       "      <td>56.09</td>\n",
       "      <td>2020-08-17</td>\n",
       "    </tr>\n",
       "    <tr>\n",
       "      <th>3</th>\n",
       "      <td>1539</td>\n",
       "      <td>MS-OPEN VALUE SUBSCRIPTION</td>\n",
       "      <td>076-04355</td>\n",
       "      <td>BA0067</td>\n",
       "      <td>NaN</td>\n",
       "      <td>1YR PRJCT ALNG LICSAPK OLV D AP,</td>\n",
       "      <td>No Stock</td>\n",
       "      <td>0</td>\n",
       "      <td>217.60</td>\n",
       "      <td>2020-08-17</td>\n",
       "    </tr>\n",
       "    <tr>\n",
       "      <th>4</th>\n",
       "      <td>1582</td>\n",
       "      <td>MS-OPEN VALUE SUBSCRIPTION</td>\n",
       "      <td>077-05318</td>\n",
       "      <td>BA0080</td>\n",
       "      <td>NaN</td>\n",
       "      <td>1YR ACCESS ALNG LICSAPK OLV D, AP</td>\n",
       "      <td>No Stock</td>\n",
       "      <td>0</td>\n",
       "      <td>56.09</td>\n",
       "      <td>2020-08-17</td>\n",
       "    </tr>\n",
       "  </tbody>\n",
       "</table>\n",
       "</div>"
      ],
      "text/plain": [
       "   category                manufacturer part_number     sku alt_sku  \\\n",
       "0      1539  MS-OPEN VALUE SUBSCRIPTION   021-09108  BA0011     NaN   \n",
       "1      1539  MS-OPEN VALUE SUBSCRIPTION   059-07014  BA0025     NaN   \n",
       "2      1539  MS-OPEN VALUE SUBSCRIPTION   065-06444  BA0039     NaN   \n",
       "3      1539  MS-OPEN VALUE SUBSCRIPTION   076-04355  BA0067     NaN   \n",
       "4      1582  MS-OPEN VALUE SUBSCRIPTION   077-05318  BA0080     NaN   \n",
       "\n",
       "                            description    status  qty   price sku_create_date  \n",
       "0  1YR OFFICESTD ALNG LICSAPK OLV, D AP  No Stock    0  143.58      2020-08-17  \n",
       "1       1YR WORD ALNG LICSAPK OLV D AP,  No Stock    0   56.09      2020-08-17  \n",
       "2      1YR EXCEL ALNG LICSAPK OLV D AP,  No Stock    0   56.09      2020-08-17  \n",
       "3      1YR PRJCT ALNG LICSAPK OLV D AP,  No Stock    0  217.60      2020-08-17  \n",
       "4     1YR ACCESS ALNG LICSAPK OLV D, AP  No Stock    0   56.09      2020-08-17  "
      ]
     },
     "execution_count": 60,
     "metadata": {},
     "output_type": "execute_result"
    }
   ],
   "source": [
    "df.head()"
   ]
  },
  {
   "cell_type": "code",
   "execution_count": 61,
   "id": "9f7e2d79",
   "metadata": {
    "scrolled": false
   },
   "outputs": [
    {
     "data": {
      "text/html": [
       "<div>\n",
       "<style scoped>\n",
       "    .dataframe tbody tr th:only-of-type {\n",
       "        vertical-align: middle;\n",
       "    }\n",
       "\n",
       "    .dataframe tbody tr th {\n",
       "        vertical-align: top;\n",
       "    }\n",
       "\n",
       "    .dataframe thead th {\n",
       "        text-align: right;\n",
       "    }\n",
       "</style>\n",
       "<table border=\"1\" class=\"dataframe\">\n",
       "  <thead>\n",
       "    <tr style=\"text-align: right;\">\n",
       "      <th></th>\n",
       "      <th>category</th>\n",
       "      <th>manufacturer</th>\n",
       "      <th>part_number</th>\n",
       "      <th>sku</th>\n",
       "      <th>alt_sku</th>\n",
       "      <th>description</th>\n",
       "      <th>status</th>\n",
       "      <th>qty</th>\n",
       "      <th>price</th>\n",
       "      <th>sku_create_date</th>\n",
       "    </tr>\n",
       "  </thead>\n",
       "  <tbody>\n",
       "    <tr>\n",
       "      <th>2627921</th>\n",
       "      <td>9945</td>\n",
       "      <td>VERBATIM CORPORATION</td>\n",
       "      <td>93975</td>\n",
       "      <td>986034</td>\n",
       "      <td>NaN</td>\n",
       "      <td>CD &amp; DVD TRIMPAK CASES 200PK, CLEAR FLEXIBLE P...</td>\n",
       "      <td>In Stock</td>\n",
       "      <td>12</td>\n",
       "      <td>50.53</td>\n",
       "      <td>2020-08-28</td>\n",
       "    </tr>\n",
       "    <tr>\n",
       "      <th>2627922</th>\n",
       "      <td>9945</td>\n",
       "      <td>VERBATIM CORPORATION</td>\n",
       "      <td>93975</td>\n",
       "      <td>986034</td>\n",
       "      <td>NaN</td>\n",
       "      <td>CD &amp; DVD TRIMPAK CASES 200PK, CLEAR FLEXIBLE P...</td>\n",
       "      <td>In Stock</td>\n",
       "      <td>12</td>\n",
       "      <td>50.53</td>\n",
       "      <td>2020-08-28</td>\n",
       "    </tr>\n",
       "    <tr>\n",
       "      <th>2627923</th>\n",
       "      <td>9945</td>\n",
       "      <td>VERBATIM CORPORATION</td>\n",
       "      <td>93975</td>\n",
       "      <td>986034</td>\n",
       "      <td>NaN</td>\n",
       "      <td>CD &amp; DVD TRIMPAK CASES 200PK, CLEAR FLEXIBLE P...</td>\n",
       "      <td>In Stock</td>\n",
       "      <td>12</td>\n",
       "      <td>50.53</td>\n",
       "      <td>2020-08-28</td>\n",
       "    </tr>\n",
       "    <tr>\n",
       "      <th>2627924</th>\n",
       "      <td>9945</td>\n",
       "      <td>VERBATIM CORPORATION</td>\n",
       "      <td>93975</td>\n",
       "      <td>986034</td>\n",
       "      <td>NaN</td>\n",
       "      <td>CD &amp; DVD TRIMPAK CASES 200PK, CLEAR FLEXIBLE P...</td>\n",
       "      <td>In Stock</td>\n",
       "      <td>12</td>\n",
       "      <td>50.53</td>\n",
       "      <td>2020-08-28</td>\n",
       "    </tr>\n",
       "    <tr>\n",
       "      <th>2627925</th>\n",
       "      <td>9945</td>\n",
       "      <td>VERBATIM CORPORATION</td>\n",
       "      <td>93975</td>\n",
       "      <td>986034</td>\n",
       "      <td>NaN</td>\n",
       "      <td>CD &amp; DVD TRIMPAK CASES 200PK, CLEAR FLEXIBLE P...</td>\n",
       "      <td>In Stock</td>\n",
       "      <td>12</td>\n",
       "      <td>50.53</td>\n",
       "      <td>2020-08-28</td>\n",
       "    </tr>\n",
       "  </tbody>\n",
       "</table>\n",
       "</div>"
      ],
      "text/plain": [
       "         category          manufacturer part_number     sku alt_sku  \\\n",
       "2627921      9945  VERBATIM CORPORATION       93975  986034     NaN   \n",
       "2627922      9945  VERBATIM CORPORATION       93975  986034     NaN   \n",
       "2627923      9945  VERBATIM CORPORATION       93975  986034     NaN   \n",
       "2627924      9945  VERBATIM CORPORATION       93975  986034     NaN   \n",
       "2627925      9945  VERBATIM CORPORATION       93975  986034     NaN   \n",
       "\n",
       "                                               description    status  qty  \\\n",
       "2627921  CD & DVD TRIMPAK CASES 200PK, CLEAR FLEXIBLE P...  In Stock   12   \n",
       "2627922  CD & DVD TRIMPAK CASES 200PK, CLEAR FLEXIBLE P...  In Stock   12   \n",
       "2627923  CD & DVD TRIMPAK CASES 200PK, CLEAR FLEXIBLE P...  In Stock   12   \n",
       "2627924  CD & DVD TRIMPAK CASES 200PK, CLEAR FLEXIBLE P...  In Stock   12   \n",
       "2627925  CD & DVD TRIMPAK CASES 200PK, CLEAR FLEXIBLE P...  In Stock   12   \n",
       "\n",
       "         price sku_create_date  \n",
       "2627921  50.53      2020-08-28  \n",
       "2627922  50.53      2020-08-28  \n",
       "2627923  50.53      2020-08-28  \n",
       "2627924  50.53      2020-08-28  \n",
       "2627925  50.53      2020-08-28  "
      ]
     },
     "execution_count": 61,
     "metadata": {},
     "output_type": "execute_result"
    }
   ],
   "source": [
    "df.tail()"
   ]
  },
  {
   "cell_type": "code",
   "execution_count": 62,
   "id": "d49b4ba4",
   "metadata": {},
   "outputs": [
    {
     "name": "stdout",
     "output_type": "stream",
     "text": [
      "<class 'pandas.core.frame.DataFrame'>\n",
      "RangeIndex: 2627926 entries, 0 to 2627925\n",
      "Data columns (total 10 columns):\n",
      " #   Column           Dtype         \n",
      "---  ------           -----         \n",
      " 0   category         int64         \n",
      " 1   manufacturer     object        \n",
      " 2   part_number      object        \n",
      " 3   sku              object        \n",
      " 4   alt_sku          object        \n",
      " 5   description      object        \n",
      " 6   status           object        \n",
      " 7   qty              int64         \n",
      " 8   price            float64       \n",
      " 9   sku_create_date  datetime64[ns]\n",
      "dtypes: datetime64[ns](1), float64(1), int64(2), object(6)\n",
      "memory usage: 200.5+ MB\n"
     ]
    }
   ],
   "source": [
    "df.info()"
   ]
  },
  {
   "cell_type": "code",
   "execution_count": 63,
   "id": "3819354d",
   "metadata": {},
   "outputs": [],
   "source": [
    "df1 = df[df['status']=='In Stock']\n",
    "df2 = df[df['status']=='No Stock']"
   ]
  },
  {
   "cell_type": "markdown",
   "id": "bf85cce4",
   "metadata": {},
   "source": [
    "For data In Stock\n",
    "------------------------"
   ]
  },
  {
   "cell_type": "markdown",
   "id": "92428c4a",
   "metadata": {},
   "source": [
    "1. Which are the top Manufacturers with price, quantity?"
   ]
  },
  {
   "cell_type": "code",
   "execution_count": 64,
   "id": "cb0e5d7f",
   "metadata": {},
   "outputs": [
    {
     "data": {
      "text/html": [
       "<div>\n",
       "<style scoped>\n",
       "    .dataframe tbody tr th:only-of-type {\n",
       "        vertical-align: middle;\n",
       "    }\n",
       "\n",
       "    .dataframe tbody tr th {\n",
       "        vertical-align: top;\n",
       "    }\n",
       "\n",
       "    .dataframe thead th {\n",
       "        text-align: right;\n",
       "    }\n",
       "</style>\n",
       "<table border=\"1\" class=\"dataframe\">\n",
       "  <thead>\n",
       "    <tr style=\"text-align: right;\">\n",
       "      <th></th>\n",
       "      <th>category</th>\n",
       "      <th>manufacturer</th>\n",
       "      <th>part_number</th>\n",
       "      <th>sku</th>\n",
       "      <th>alt_sku</th>\n",
       "      <th>description</th>\n",
       "      <th>status</th>\n",
       "      <th>qty</th>\n",
       "      <th>price</th>\n",
       "      <th>sku_create_date</th>\n",
       "    </tr>\n",
       "  </thead>\n",
       "  <tbody>\n",
       "    <tr>\n",
       "      <th>253</th>\n",
       "      <td>9920</td>\n",
       "      <td>CASE LOGIC-PERSONAL &amp; PORTABLE</td>\n",
       "      <td>3200943</td>\n",
       "      <td>BA6371</td>\n",
       "      <td>NaN</td>\n",
       "      <td>LAPTOP ROLLING CASE BLACK, SECURITY FRIENDLY 17IN</td>\n",
       "      <td>In Stock</td>\n",
       "      <td>7</td>\n",
       "      <td>99.00</td>\n",
       "      <td>2020-08-17</td>\n",
       "    </tr>\n",
       "    <tr>\n",
       "      <th>271</th>\n",
       "      <td>531</td>\n",
       "      <td>OMNITRON SYSTEMS</td>\n",
       "      <td>7206-0</td>\n",
       "      <td>BA6834</td>\n",
       "      <td>NaN</td>\n",
       "      <td>1000BASE-SX SFP LC/MM/DF 850NM, 550M PLUGGABLE...</td>\n",
       "      <td>In Stock</td>\n",
       "      <td>2</td>\n",
       "      <td>59.09</td>\n",
       "      <td>2020-08-17</td>\n",
       "    </tr>\n",
       "    <tr>\n",
       "      <th>320</th>\n",
       "      <td>9070</td>\n",
       "      <td>ZEBRA ENTERPRISE MCD-A1</td>\n",
       "      <td>SAC5070-800CR</td>\n",
       "      <td>BC0227</td>\n",
       "      <td>NaN</td>\n",
       "      <td>RS507 8SLOT BATTERY CHARGE KIT, EXT PWR SUPL/U...</td>\n",
       "      <td>In Stock</td>\n",
       "      <td>3</td>\n",
       "      <td>500.06</td>\n",
       "      <td>2020-08-17</td>\n",
       "    </tr>\n",
       "    <tr>\n",
       "      <th>324</th>\n",
       "      <td>9080</td>\n",
       "      <td>ZEBRA ENTERPRISE MCD-A1</td>\n",
       "      <td>KT-CLMPT-RS507-01R</td>\n",
       "      <td>BC0232</td>\n",
       "      <td>NaN</td>\n",
       "      <td>RS507 TRIGGER SWIVEL DOES NOT, INCLUDE STRAP/B...</td>\n",
       "      <td>In Stock</td>\n",
       "      <td>115</td>\n",
       "      <td>86.34</td>\n",
       "      <td>2020-08-17</td>\n",
       "    </tr>\n",
       "    <tr>\n",
       "      <th>326</th>\n",
       "      <td>9080</td>\n",
       "      <td>ZEBRA ENTERPRISE MCD-A1</td>\n",
       "      <td>KT-PAD-RS507-10R</td>\n",
       "      <td>BC0234</td>\n",
       "      <td>NaN</td>\n",
       "      <td>10 CT COMFORT PADS FOR RS507,</td>\n",
       "      <td>In Stock</td>\n",
       "      <td>42</td>\n",
       "      <td>51.80</td>\n",
       "      <td>2020-08-17</td>\n",
       "    </tr>\n",
       "  </tbody>\n",
       "</table>\n",
       "</div>"
      ],
      "text/plain": [
       "     category                    manufacturer         part_number     sku  \\\n",
       "253      9920  CASE LOGIC-PERSONAL & PORTABLE             3200943  BA6371   \n",
       "271       531                OMNITRON SYSTEMS              7206-0  BA6834   \n",
       "320      9070         ZEBRA ENTERPRISE MCD-A1       SAC5070-800CR  BC0227   \n",
       "324      9080         ZEBRA ENTERPRISE MCD-A1  KT-CLMPT-RS507-01R  BC0232   \n",
       "326      9080         ZEBRA ENTERPRISE MCD-A1    KT-PAD-RS507-10R  BC0234   \n",
       "\n",
       "    alt_sku                                        description    status  qty  \\\n",
       "253     NaN  LAPTOP ROLLING CASE BLACK, SECURITY FRIENDLY 17IN  In Stock    7   \n",
       "271     NaN  1000BASE-SX SFP LC/MM/DF 850NM, 550M PLUGGABLE...  In Stock    2   \n",
       "320     NaN  RS507 8SLOT BATTERY CHARGE KIT, EXT PWR SUPL/U...  In Stock    3   \n",
       "324     NaN  RS507 TRIGGER SWIVEL DOES NOT, INCLUDE STRAP/B...  In Stock  115   \n",
       "326     NaN                      10 CT COMFORT PADS FOR RS507,  In Stock   42   \n",
       "\n",
       "      price sku_create_date  \n",
       "253   99.00      2020-08-17  \n",
       "271   59.09      2020-08-17  \n",
       "320  500.06      2020-08-17  \n",
       "324   86.34      2020-08-17  \n",
       "326   51.80      2020-08-17  "
      ]
     },
     "execution_count": 64,
     "metadata": {},
     "output_type": "execute_result"
    }
   ],
   "source": [
    "df1.head()"
   ]
  },
  {
   "cell_type": "code",
   "execution_count": 65,
   "id": "d01b501a",
   "metadata": {},
   "outputs": [
    {
     "data": {
      "text/html": [
       "<div>\n",
       "<style scoped>\n",
       "    .dataframe tbody tr th:only-of-type {\n",
       "        vertical-align: middle;\n",
       "    }\n",
       "\n",
       "    .dataframe tbody tr th {\n",
       "        vertical-align: top;\n",
       "    }\n",
       "\n",
       "    .dataframe thead th {\n",
       "        text-align: right;\n",
       "    }\n",
       "</style>\n",
       "<table border=\"1\" class=\"dataframe\">\n",
       "  <thead>\n",
       "    <tr style=\"text-align: right;\">\n",
       "      <th></th>\n",
       "      <th>category</th>\n",
       "      <th>manufacturer</th>\n",
       "      <th>part_number</th>\n",
       "      <th>sku</th>\n",
       "      <th>alt_sku</th>\n",
       "      <th>description</th>\n",
       "      <th>status</th>\n",
       "      <th>qty</th>\n",
       "      <th>price</th>\n",
       "      <th>sku_create_date</th>\n",
       "    </tr>\n",
       "  </thead>\n",
       "  <tbody>\n",
       "    <tr>\n",
       "      <th>0</th>\n",
       "      <td>1539</td>\n",
       "      <td>MS-OPEN VALUE SUBSCRIPTION</td>\n",
       "      <td>021-09108</td>\n",
       "      <td>BA0011</td>\n",
       "      <td>NaN</td>\n",
       "      <td>1YR OFFICESTD ALNG LICSAPK OLV, D AP</td>\n",
       "      <td>No Stock</td>\n",
       "      <td>0</td>\n",
       "      <td>143.58</td>\n",
       "      <td>2020-08-17</td>\n",
       "    </tr>\n",
       "    <tr>\n",
       "      <th>1</th>\n",
       "      <td>1539</td>\n",
       "      <td>MS-OPEN VALUE SUBSCRIPTION</td>\n",
       "      <td>059-07014</td>\n",
       "      <td>BA0025</td>\n",
       "      <td>NaN</td>\n",
       "      <td>1YR WORD ALNG LICSAPK OLV D AP,</td>\n",
       "      <td>No Stock</td>\n",
       "      <td>0</td>\n",
       "      <td>56.09</td>\n",
       "      <td>2020-08-17</td>\n",
       "    </tr>\n",
       "    <tr>\n",
       "      <th>2</th>\n",
       "      <td>1539</td>\n",
       "      <td>MS-OPEN VALUE SUBSCRIPTION</td>\n",
       "      <td>065-06444</td>\n",
       "      <td>BA0039</td>\n",
       "      <td>NaN</td>\n",
       "      <td>1YR EXCEL ALNG LICSAPK OLV D AP,</td>\n",
       "      <td>No Stock</td>\n",
       "      <td>0</td>\n",
       "      <td>56.09</td>\n",
       "      <td>2020-08-17</td>\n",
       "    </tr>\n",
       "    <tr>\n",
       "      <th>3</th>\n",
       "      <td>1539</td>\n",
       "      <td>MS-OPEN VALUE SUBSCRIPTION</td>\n",
       "      <td>076-04355</td>\n",
       "      <td>BA0067</td>\n",
       "      <td>NaN</td>\n",
       "      <td>1YR PRJCT ALNG LICSAPK OLV D AP,</td>\n",
       "      <td>No Stock</td>\n",
       "      <td>0</td>\n",
       "      <td>217.60</td>\n",
       "      <td>2020-08-17</td>\n",
       "    </tr>\n",
       "    <tr>\n",
       "      <th>4</th>\n",
       "      <td>1582</td>\n",
       "      <td>MS-OPEN VALUE SUBSCRIPTION</td>\n",
       "      <td>077-05318</td>\n",
       "      <td>BA0080</td>\n",
       "      <td>NaN</td>\n",
       "      <td>1YR ACCESS ALNG LICSAPK OLV D, AP</td>\n",
       "      <td>No Stock</td>\n",
       "      <td>0</td>\n",
       "      <td>56.09</td>\n",
       "      <td>2020-08-17</td>\n",
       "    </tr>\n",
       "  </tbody>\n",
       "</table>\n",
       "</div>"
      ],
      "text/plain": [
       "   category                manufacturer part_number     sku alt_sku  \\\n",
       "0      1539  MS-OPEN VALUE SUBSCRIPTION   021-09108  BA0011     NaN   \n",
       "1      1539  MS-OPEN VALUE SUBSCRIPTION   059-07014  BA0025     NaN   \n",
       "2      1539  MS-OPEN VALUE SUBSCRIPTION   065-06444  BA0039     NaN   \n",
       "3      1539  MS-OPEN VALUE SUBSCRIPTION   076-04355  BA0067     NaN   \n",
       "4      1582  MS-OPEN VALUE SUBSCRIPTION   077-05318  BA0080     NaN   \n",
       "\n",
       "                            description    status  qty   price sku_create_date  \n",
       "0  1YR OFFICESTD ALNG LICSAPK OLV, D AP  No Stock    0  143.58      2020-08-17  \n",
       "1       1YR WORD ALNG LICSAPK OLV D AP,  No Stock    0   56.09      2020-08-17  \n",
       "2      1YR EXCEL ALNG LICSAPK OLV D AP,  No Stock    0   56.09      2020-08-17  \n",
       "3      1YR PRJCT ALNG LICSAPK OLV D AP,  No Stock    0  217.60      2020-08-17  \n",
       "4     1YR ACCESS ALNG LICSAPK OLV D, AP  No Stock    0   56.09      2020-08-17  "
      ]
     },
     "execution_count": 65,
     "metadata": {},
     "output_type": "execute_result"
    }
   ],
   "source": [
    "df2.head()"
   ]
  },
  {
   "cell_type": "code",
   "execution_count": 66,
   "id": "91fa871f",
   "metadata": {},
   "outputs": [
    {
     "data": {
      "text/html": [
       "<div>\n",
       "<style scoped>\n",
       "    .dataframe tbody tr th:only-of-type {\n",
       "        vertical-align: middle;\n",
       "    }\n",
       "\n",
       "    .dataframe tbody tr th {\n",
       "        vertical-align: top;\n",
       "    }\n",
       "\n",
       "    .dataframe thead th {\n",
       "        text-align: right;\n",
       "    }\n",
       "</style>\n",
       "<table border=\"1\" class=\"dataframe\">\n",
       "  <thead>\n",
       "    <tr style=\"text-align: right;\">\n",
       "      <th></th>\n",
       "      <th>manufacturer</th>\n",
       "      <th>qty</th>\n",
       "    </tr>\n",
       "  </thead>\n",
       "  <tbody>\n",
       "    <tr>\n",
       "      <th>620</th>\n",
       "      <td>STARTECH.COM</td>\n",
       "      <td>16069681</td>\n",
       "    </tr>\n",
       "    <tr>\n",
       "      <th>181</th>\n",
       "      <td>DELL CSG SERVICE WARRANTIES</td>\n",
       "      <td>13578833</td>\n",
       "    </tr>\n",
       "    <tr>\n",
       "      <th>650</th>\n",
       "      <td>TRIPP LITE CONNECTIVITY</td>\n",
       "      <td>8283765</td>\n",
       "    </tr>\n",
       "    <tr>\n",
       "      <th>433</th>\n",
       "      <td>LOGITECH - COMPUTER ACCESSORIES</td>\n",
       "      <td>8251159</td>\n",
       "    </tr>\n",
       "    <tr>\n",
       "      <th>367</th>\n",
       "      <td>JABRA BUSINESS</td>\n",
       "      <td>4829490</td>\n",
       "    </tr>\n",
       "  </tbody>\n",
       "</table>\n",
       "</div>"
      ],
      "text/plain": [
       "                        manufacturer       qty\n",
       "620                     STARTECH.COM  16069681\n",
       "181      DELL CSG SERVICE WARRANTIES  13578833\n",
       "650          TRIPP LITE CONNECTIVITY   8283765\n",
       "433  LOGITECH - COMPUTER ACCESSORIES   8251159\n",
       "367                   JABRA BUSINESS   4829490"
      ]
     },
     "execution_count": 66,
     "metadata": {},
     "output_type": "execute_result"
    }
   ],
   "source": [
    "qty_by_manufacturer=df1.groupby('manufacturer',as_index=False)['qty'].sum().sort_values('qty',ascending=False)\n",
    "qty_by_manufacturer.head()"
   ]
  },
  {
   "cell_type": "code",
   "execution_count": 67,
   "id": "1abf5d8f",
   "metadata": {},
   "outputs": [
    {
     "data": {
      "text/html": [
       "<div>\n",
       "<style scoped>\n",
       "    .dataframe tbody tr th:only-of-type {\n",
       "        vertical-align: middle;\n",
       "    }\n",
       "\n",
       "    .dataframe tbody tr th {\n",
       "        vertical-align: top;\n",
       "    }\n",
       "\n",
       "    .dataframe thead th {\n",
       "        text-align: right;\n",
       "    }\n",
       "</style>\n",
       "<table border=\"1\" class=\"dataframe\">\n",
       "  <thead>\n",
       "    <tr style=\"text-align: right;\">\n",
       "      <th></th>\n",
       "      <th>manufacturer</th>\n",
       "      <th>price</th>\n",
       "    </tr>\n",
       "  </thead>\n",
       "  <tbody>\n",
       "    <tr>\n",
       "      <th>315</th>\n",
       "      <td>HPE - SWITCHING</td>\n",
       "      <td>69729.03</td>\n",
       "    </tr>\n",
       "    <tr>\n",
       "      <th>311</th>\n",
       "      <td>HPE - NIMBLE BTO</td>\n",
       "      <td>40893.99</td>\n",
       "    </tr>\n",
       "    <tr>\n",
       "      <th>303</th>\n",
       "      <td>HPE - ARUBA INSTANT</td>\n",
       "      <td>35554.13</td>\n",
       "    </tr>\n",
       "    <tr>\n",
       "      <th>529</th>\n",
       "      <td>PULSE SECURE</td>\n",
       "      <td>23423.40</td>\n",
       "    </tr>\n",
       "    <tr>\n",
       "      <th>444</th>\n",
       "      <td>MELLANOX TECHNOLOGIES</td>\n",
       "      <td>20144.08</td>\n",
       "    </tr>\n",
       "  </tbody>\n",
       "</table>\n",
       "</div>"
      ],
      "text/plain": [
       "              manufacturer     price\n",
       "315        HPE - SWITCHING  69729.03\n",
       "311       HPE - NIMBLE BTO  40893.99\n",
       "303    HPE - ARUBA INSTANT  35554.13\n",
       "529           PULSE SECURE  23423.40\n",
       "444  MELLANOX TECHNOLOGIES  20144.08"
      ]
     },
     "execution_count": 67,
     "metadata": {},
     "output_type": "execute_result"
    }
   ],
   "source": [
    "price_by_manufacturer=df1.groupby('manufacturer',as_index=False)['price'].max().sort_values('price',ascending=False)\n",
    "price_by_manufacturer.head()"
   ]
  },
  {
   "cell_type": "markdown",
   "id": "e62401c9",
   "metadata": {},
   "source": [
    "2. Which are the most profitable products?"
   ]
  },
  {
   "cell_type": "code",
   "execution_count": 68,
   "id": "37a72e31",
   "metadata": {
    "scrolled": true
   },
   "outputs": [
    {
     "name": "stderr",
     "output_type": "stream",
     "text": [
      "<ipython-input-68-b6cf937e8c88>:1: SettingWithCopyWarning: \n",
      "A value is trying to be set on a copy of a slice from a DataFrame.\n",
      "Try using .loc[row_indexer,col_indexer] = value instead\n",
      "\n",
      "See the caveats in the documentation: https://pandas.pydata.org/pandas-docs/stable/user_guide/indexing.html#returning-a-view-versus-a-copy\n",
      "  df1['profit'] = df1['qty'] * df1['price']\n"
     ]
    }
   ],
   "source": [
    "df1['profit'] = df1['qty'] * df1['price']"
   ]
  },
  {
   "cell_type": "code",
   "execution_count": 69,
   "id": "f9d86989",
   "metadata": {},
   "outputs": [
    {
     "data": {
      "text/html": [
       "<div>\n",
       "<style scoped>\n",
       "    .dataframe tbody tr th:only-of-type {\n",
       "        vertical-align: middle;\n",
       "    }\n",
       "\n",
       "    .dataframe tbody tr th {\n",
       "        vertical-align: top;\n",
       "    }\n",
       "\n",
       "    .dataframe thead th {\n",
       "        text-align: right;\n",
       "    }\n",
       "</style>\n",
       "<table border=\"1\" class=\"dataframe\">\n",
       "  <thead>\n",
       "    <tr style=\"text-align: right;\">\n",
       "      <th></th>\n",
       "      <th>category</th>\n",
       "      <th>manufacturer</th>\n",
       "      <th>part_number</th>\n",
       "      <th>sku</th>\n",
       "      <th>alt_sku</th>\n",
       "      <th>description</th>\n",
       "      <th>status</th>\n",
       "      <th>qty</th>\n",
       "      <th>price</th>\n",
       "      <th>sku_create_date</th>\n",
       "      <th>profit</th>\n",
       "    </tr>\n",
       "  </thead>\n",
       "  <tbody>\n",
       "    <tr>\n",
       "      <th>253</th>\n",
       "      <td>9920</td>\n",
       "      <td>CASE LOGIC-PERSONAL &amp; PORTABLE</td>\n",
       "      <td>3200943</td>\n",
       "      <td>BA6371</td>\n",
       "      <td>NaN</td>\n",
       "      <td>LAPTOP ROLLING CASE BLACK, SECURITY FRIENDLY 17IN</td>\n",
       "      <td>In Stock</td>\n",
       "      <td>7</td>\n",
       "      <td>99.00</td>\n",
       "      <td>2020-08-17</td>\n",
       "      <td>693.00</td>\n",
       "    </tr>\n",
       "    <tr>\n",
       "      <th>271</th>\n",
       "      <td>531</td>\n",
       "      <td>OMNITRON SYSTEMS</td>\n",
       "      <td>7206-0</td>\n",
       "      <td>BA6834</td>\n",
       "      <td>NaN</td>\n",
       "      <td>1000BASE-SX SFP LC/MM/DF 850NM, 550M PLUGGABLE...</td>\n",
       "      <td>In Stock</td>\n",
       "      <td>2</td>\n",
       "      <td>59.09</td>\n",
       "      <td>2020-08-17</td>\n",
       "      <td>118.18</td>\n",
       "    </tr>\n",
       "    <tr>\n",
       "      <th>320</th>\n",
       "      <td>9070</td>\n",
       "      <td>ZEBRA ENTERPRISE MCD-A1</td>\n",
       "      <td>SAC5070-800CR</td>\n",
       "      <td>BC0227</td>\n",
       "      <td>NaN</td>\n",
       "      <td>RS507 8SLOT BATTERY CHARGE KIT, EXT PWR SUPL/U...</td>\n",
       "      <td>In Stock</td>\n",
       "      <td>3</td>\n",
       "      <td>500.06</td>\n",
       "      <td>2020-08-17</td>\n",
       "      <td>1500.18</td>\n",
       "    </tr>\n",
       "    <tr>\n",
       "      <th>324</th>\n",
       "      <td>9080</td>\n",
       "      <td>ZEBRA ENTERPRISE MCD-A1</td>\n",
       "      <td>KT-CLMPT-RS507-01R</td>\n",
       "      <td>BC0232</td>\n",
       "      <td>NaN</td>\n",
       "      <td>RS507 TRIGGER SWIVEL DOES NOT, INCLUDE STRAP/B...</td>\n",
       "      <td>In Stock</td>\n",
       "      <td>115</td>\n",
       "      <td>86.34</td>\n",
       "      <td>2020-08-17</td>\n",
       "      <td>9929.10</td>\n",
       "    </tr>\n",
       "    <tr>\n",
       "      <th>326</th>\n",
       "      <td>9080</td>\n",
       "      <td>ZEBRA ENTERPRISE MCD-A1</td>\n",
       "      <td>KT-PAD-RS507-10R</td>\n",
       "      <td>BC0234</td>\n",
       "      <td>NaN</td>\n",
       "      <td>10 CT COMFORT PADS FOR RS507,</td>\n",
       "      <td>In Stock</td>\n",
       "      <td>42</td>\n",
       "      <td>51.80</td>\n",
       "      <td>2020-08-17</td>\n",
       "      <td>2175.60</td>\n",
       "    </tr>\n",
       "  </tbody>\n",
       "</table>\n",
       "</div>"
      ],
      "text/plain": [
       "     category                    manufacturer         part_number     sku  \\\n",
       "253      9920  CASE LOGIC-PERSONAL & PORTABLE             3200943  BA6371   \n",
       "271       531                OMNITRON SYSTEMS              7206-0  BA6834   \n",
       "320      9070         ZEBRA ENTERPRISE MCD-A1       SAC5070-800CR  BC0227   \n",
       "324      9080         ZEBRA ENTERPRISE MCD-A1  KT-CLMPT-RS507-01R  BC0232   \n",
       "326      9080         ZEBRA ENTERPRISE MCD-A1    KT-PAD-RS507-10R  BC0234   \n",
       "\n",
       "    alt_sku                                        description    status  qty  \\\n",
       "253     NaN  LAPTOP ROLLING CASE BLACK, SECURITY FRIENDLY 17IN  In Stock    7   \n",
       "271     NaN  1000BASE-SX SFP LC/MM/DF 850NM, 550M PLUGGABLE...  In Stock    2   \n",
       "320     NaN  RS507 8SLOT BATTERY CHARGE KIT, EXT PWR SUPL/U...  In Stock    3   \n",
       "324     NaN  RS507 TRIGGER SWIVEL DOES NOT, INCLUDE STRAP/B...  In Stock  115   \n",
       "326     NaN                      10 CT COMFORT PADS FOR RS507,  In Stock   42   \n",
       "\n",
       "      price sku_create_date   profit  \n",
       "253   99.00      2020-08-17   693.00  \n",
       "271   59.09      2020-08-17   118.18  \n",
       "320  500.06      2020-08-17  1500.18  \n",
       "324   86.34      2020-08-17  9929.10  \n",
       "326   51.80      2020-08-17  2175.60  "
      ]
     },
     "execution_count": 69,
     "metadata": {},
     "output_type": "execute_result"
    }
   ],
   "source": [
    "df1.head()"
   ]
  },
  {
   "cell_type": "code",
   "execution_count": 70,
   "id": "e3b09c87",
   "metadata": {
    "scrolled": true
   },
   "outputs": [
    {
     "data": {
      "text/html": [
       "<div>\n",
       "<style scoped>\n",
       "    .dataframe tbody tr th:only-of-type {\n",
       "        vertical-align: middle;\n",
       "    }\n",
       "\n",
       "    .dataframe tbody tr th {\n",
       "        vertical-align: top;\n",
       "    }\n",
       "\n",
       "    .dataframe thead th {\n",
       "        text-align: right;\n",
       "    }\n",
       "</style>\n",
       "<table border=\"1\" class=\"dataframe\">\n",
       "  <thead>\n",
       "    <tr style=\"text-align: right;\">\n",
       "      <th></th>\n",
       "      <th>description</th>\n",
       "      <th>profit</th>\n",
       "    </tr>\n",
       "  </thead>\n",
       "  <tbody>\n",
       "    <tr>\n",
       "      <th>8346</th>\n",
       "      <td>3YR NBD TO 5YR PROSPT 4H,</td>\n",
       "      <td>42358763.70</td>\n",
       "    </tr>\n",
       "    <tr>\n",
       "      <th>10637</th>\n",
       "      <td>5YR PROSUPPORT PLUS,</td>\n",
       "      <td>38003399.28</td>\n",
       "    </tr>\n",
       "    <tr>\n",
       "      <th>17947</th>\n",
       "      <td>FED ADVANTAGE CONTRACT SUPPORT-, STARTING LEVEL</td>\n",
       "      <td>25022497.50</td>\n",
       "    </tr>\n",
       "    <tr>\n",
       "      <th>8381</th>\n",
       "      <td>3YR PROSUPPORT PLUS,</td>\n",
       "      <td>23750924.67</td>\n",
       "    </tr>\n",
       "    <tr>\n",
       "      <th>8380</th>\n",
       "      <td>3YR PROSUPPORT MISSION CRITICAL,</td>\n",
       "      <td>22838315.94</td>\n",
       "    </tr>\n",
       "  </tbody>\n",
       "</table>\n",
       "</div>"
      ],
      "text/plain": [
       "                                           description       profit\n",
       "8346                         3YR NBD TO 5YR PROSPT 4H,  42358763.70\n",
       "10637                             5YR PROSUPPORT PLUS,  38003399.28\n",
       "17947  FED ADVANTAGE CONTRACT SUPPORT-, STARTING LEVEL  25022497.50\n",
       "8381                              3YR PROSUPPORT PLUS,  23750924.67\n",
       "8380                  3YR PROSUPPORT MISSION CRITICAL,  22838315.94"
      ]
     },
     "execution_count": 70,
     "metadata": {},
     "output_type": "execute_result"
    }
   ],
   "source": [
    "most_profitable_products=df1.groupby('description',as_index=False)['profit'].max().sort_values('profit',ascending=False)\n",
    "most_profitable_products.head()"
   ]
  },
  {
   "cell_type": "markdown",
   "id": "4fc6d913",
   "metadata": {},
   "source": [
    "3. Which is the product where you have seen a decrease in the price?"
   ]
  },
  {
   "cell_type": "code",
   "execution_count": 71,
   "id": "ce0d94dd",
   "metadata": {},
   "outputs": [
    {
     "data": {
      "text/html": [
       "<div>\n",
       "<style scoped>\n",
       "    .dataframe tbody tr th:only-of-type {\n",
       "        vertical-align: middle;\n",
       "    }\n",
       "\n",
       "    .dataframe tbody tr th {\n",
       "        vertical-align: top;\n",
       "    }\n",
       "\n",
       "    .dataframe thead th {\n",
       "        text-align: right;\n",
       "    }\n",
       "</style>\n",
       "<table border=\"1\" class=\"dataframe\">\n",
       "  <thead>\n",
       "    <tr style=\"text-align: right;\">\n",
       "      <th></th>\n",
       "      <th>category</th>\n",
       "      <th>manufacturer</th>\n",
       "      <th>part_number</th>\n",
       "      <th>sku</th>\n",
       "      <th>alt_sku</th>\n",
       "      <th>description</th>\n",
       "      <th>status</th>\n",
       "      <th>qty</th>\n",
       "      <th>price</th>\n",
       "      <th>sku_create_date</th>\n",
       "      <th>profit</th>\n",
       "    </tr>\n",
       "  </thead>\n",
       "  <tbody>\n",
       "    <tr>\n",
       "      <th>404348</th>\n",
       "      <td>32</td>\n",
       "      <td>SUPERMICRO - COMPONENTS</td>\n",
       "      <td>SYS-5018D-FN4T</td>\n",
       "      <td>ZQ8015</td>\n",
       "      <td>NaN</td>\n",
       "      <td>[NR]XEON D X10SDV-TLN4F, 505-203B</td>\n",
       "      <td>In Stock</td>\n",
       "      <td>5</td>\n",
       "      <td>1156.32</td>\n",
       "      <td>2020-08-17</td>\n",
       "      <td>5781.60</td>\n",
       "    </tr>\n",
       "    <tr>\n",
       "      <th>1669418</th>\n",
       "      <td>32</td>\n",
       "      <td>SUPERMICRO - COMPONENTS</td>\n",
       "      <td>SYS-5018D-FN4T</td>\n",
       "      <td>ZQ8015</td>\n",
       "      <td>NaN</td>\n",
       "      <td>[NR]XEON D X10SDV-TLN4F, 505-203B</td>\n",
       "      <td>In Stock</td>\n",
       "      <td>5</td>\n",
       "      <td>1156.32</td>\n",
       "      <td>2020-08-24</td>\n",
       "      <td>5781.60</td>\n",
       "    </tr>\n",
       "    <tr>\n",
       "      <th>2350854</th>\n",
       "      <td>32</td>\n",
       "      <td>SUPERMICRO - COMPONENTS</td>\n",
       "      <td>SYS-5018D-FN4T</td>\n",
       "      <td>ZQ8015</td>\n",
       "      <td>NaN</td>\n",
       "      <td>[NR]XEON D X10SDV-TLN4F, 505-203B</td>\n",
       "      <td>In Stock</td>\n",
       "      <td>4</td>\n",
       "      <td>1156.32</td>\n",
       "      <td>2020-08-25</td>\n",
       "      <td>4625.28</td>\n",
       "    </tr>\n",
       "    <tr>\n",
       "      <th>2433897</th>\n",
       "      <td>32</td>\n",
       "      <td>SUPERMICRO - COMPONENTS</td>\n",
       "      <td>SYS-5018D-FN4T</td>\n",
       "      <td>ZQ8015</td>\n",
       "      <td>NaN</td>\n",
       "      <td>[NR]XEON D X10SDV-TLN4F, 505-203B</td>\n",
       "      <td>In Stock</td>\n",
       "      <td>3</td>\n",
       "      <td>1156.32</td>\n",
       "      <td>2020-08-26</td>\n",
       "      <td>3468.96</td>\n",
       "    </tr>\n",
       "    <tr>\n",
       "      <th>401749</th>\n",
       "      <td>32</td>\n",
       "      <td>SUPERMICRO - COMPONENTS</td>\n",
       "      <td>SSG-6038R-E1CR16L</td>\n",
       "      <td>ZN2792</td>\n",
       "      <td>NaN</td>\n",
       "      <td>[NR]X10DRH-IT, CSE-836BTS-R920BP</td>\n",
       "      <td>In Stock</td>\n",
       "      <td>1</td>\n",
       "      <td>1927.91</td>\n",
       "      <td>2020-08-17</td>\n",
       "      <td>1927.91</td>\n",
       "    </tr>\n",
       "  </tbody>\n",
       "</table>\n",
       "</div>"
      ],
      "text/plain": [
       "         category             manufacturer        part_number     sku alt_sku  \\\n",
       "404348         32  SUPERMICRO - COMPONENTS     SYS-5018D-FN4T  ZQ8015     NaN   \n",
       "1669418        32  SUPERMICRO - COMPONENTS     SYS-5018D-FN4T  ZQ8015     NaN   \n",
       "2350854        32  SUPERMICRO - COMPONENTS     SYS-5018D-FN4T  ZQ8015     NaN   \n",
       "2433897        32  SUPERMICRO - COMPONENTS     SYS-5018D-FN4T  ZQ8015     NaN   \n",
       "401749         32  SUPERMICRO - COMPONENTS  SSG-6038R-E1CR16L  ZN2792     NaN   \n",
       "\n",
       "                               description    status  qty    price  \\\n",
       "404348   [NR]XEON D X10SDV-TLN4F, 505-203B  In Stock    5  1156.32   \n",
       "1669418  [NR]XEON D X10SDV-TLN4F, 505-203B  In Stock    5  1156.32   \n",
       "2350854  [NR]XEON D X10SDV-TLN4F, 505-203B  In Stock    4  1156.32   \n",
       "2433897  [NR]XEON D X10SDV-TLN4F, 505-203B  In Stock    3  1156.32   \n",
       "401749    [NR]X10DRH-IT, CSE-836BTS-R920BP  In Stock    1  1927.91   \n",
       "\n",
       "        sku_create_date   profit  \n",
       "404348       2020-08-17  5781.60  \n",
       "1669418      2020-08-24  5781.60  \n",
       "2350854      2020-08-25  4625.28  \n",
       "2433897      2020-08-26  3468.96  \n",
       "401749       2020-08-17  1927.91  "
      ]
     },
     "execution_count": 71,
     "metadata": {},
     "output_type": "execute_result"
    }
   ],
   "source": [
    "df1=df1.sort_values(['description','sku_create_date'],ascending=(False,True))\n",
    "df1.head()"
   ]
  },
  {
   "cell_type": "code",
   "execution_count": 76,
   "id": "cb74ba1b",
   "metadata": {},
   "outputs": [
    {
     "name": "stdout",
     "output_type": "stream",
     "text": [
      "         category             manufacturer        part_number     sku alt_sku  \\\n",
      "404348         32  SUPERMICRO - COMPONENTS     SYS-5018D-FN4T  ZQ8015     NaN   \n",
      "1669418        32  SUPERMICRO - COMPONENTS     SYS-5018D-FN4T  ZQ8015     NaN   \n",
      "2350854        32  SUPERMICRO - COMPONENTS     SYS-5018D-FN4T  ZQ8015     NaN   \n",
      "2433897        32  SUPERMICRO - COMPONENTS     SYS-5018D-FN4T  ZQ8015     NaN   \n",
      "401749         32  SUPERMICRO - COMPONENTS  SSG-6038R-E1CR16L  ZN2792     NaN   \n",
      "...           ...                      ...                ...     ...     ...   \n",
      "2410448      2240  TRIPP LITE CONNECTIVITY        N280-20N-BK  QZ7267     NaN   \n",
      "2410449      2240  TRIPP LITE CONNECTIVITY        N280-20N-BK  QZ7267     NaN   \n",
      "2410450      2240  TRIPP LITE CONNECTIVITY        N280-20N-BK  QZ7267     NaN   \n",
      "2410451      2240  TRIPP LITE CONNECTIVITY        N280-20N-BK  QZ7267     NaN   \n",
      "2410452      2240  TRIPP LITE CONNECTIVITY        N280-20N-BK  QZ7267     NaN   \n",
      "\n",
      "                                               description    status  qty  \\\n",
      "404348                   [NR]XEON D X10SDV-TLN4F, 505-203B  In Stock    5   \n",
      "1669418                  [NR]XEON D X10SDV-TLN4F, 505-203B  In Stock    5   \n",
      "2350854                  [NR]XEON D X10SDV-TLN4F, 505-203B  In Stock    4   \n",
      "2433897                  [NR]XEON D X10SDV-TLN4F, 505-203B  In Stock    3   \n",
      "401749                    [NR]X10DRH-IT, CSE-836BTS-R920BP  In Stock    1   \n",
      "...                                                    ...       ...  ...   \n",
      "2410448  .5M PASSIVE TWINAX COPPER SFP+, CABLE 10GBASE-...  In Stock   20   \n",
      "2410449  .5M PASSIVE TWINAX COPPER SFP+, CABLE 10GBASE-...  In Stock   20   \n",
      "2410450  .5M PASSIVE TWINAX COPPER SFP+, CABLE 10GBASE-...  In Stock   20   \n",
      "2410451  .5M PASSIVE TWINAX COPPER SFP+, CABLE 10GBASE-...  In Stock   20   \n",
      "2410452  .5M PASSIVE TWINAX COPPER SFP+, CABLE 10GBASE-...  In Stock   20   \n",
      "\n",
      "           price sku_create_date   profit  difference  \n",
      "404348   1156.32      2020-08-17  5781.60         0.0  \n",
      "1669418  1156.32      2020-08-24  5781.60         0.0  \n",
      "2350854  1156.32      2020-08-25  4625.28         0.0  \n",
      "2433897  1156.32      2020-08-26  3468.96         0.0  \n",
      "401749   1927.91      2020-08-17  1927.91         0.0  \n",
      "...          ...             ...      ...         ...  \n",
      "2410448    23.93      2020-08-26   478.60         0.0  \n",
      "2410449    23.93      2020-08-26   478.60         0.0  \n",
      "2410450    23.93      2020-08-26   478.60         0.0  \n",
      "2410451    23.93      2020-08-26   478.60         0.0  \n",
      "2410452    23.93      2020-08-26   478.60         0.0  \n",
      "\n",
      "[713788 rows x 12 columns]\n"
     ]
    }
   ],
   "source": [
    "df1['difference'] = df1.groupby('description')['price'].diff().fillna(0)\n",
    "print(df1)"
   ]
  },
  {
   "cell_type": "code",
   "execution_count": 77,
   "id": "5b3c9362",
   "metadata": {
    "scrolled": false
   },
   "outputs": [
    {
     "data": {
      "text/html": [
       "<div>\n",
       "<style scoped>\n",
       "    .dataframe tbody tr th:only-of-type {\n",
       "        vertical-align: middle;\n",
       "    }\n",
       "\n",
       "    .dataframe tbody tr th {\n",
       "        vertical-align: top;\n",
       "    }\n",
       "\n",
       "    .dataframe thead th {\n",
       "        text-align: right;\n",
       "    }\n",
       "</style>\n",
       "<table border=\"1\" class=\"dataframe\">\n",
       "  <thead>\n",
       "    <tr style=\"text-align: right;\">\n",
       "      <th></th>\n",
       "      <th>description</th>\n",
       "      <th>difference</th>\n",
       "    </tr>\n",
       "  </thead>\n",
       "  <tbody>\n",
       "    <tr>\n",
       "      <th>22458</th>\n",
       "      <td>OPTIFIBER PRO QUAD OTDR V2 W/, INSPECTION &amp; WIFI</td>\n",
       "      <td>-4840.75</td>\n",
       "    </tr>\n",
       "    <tr>\n",
       "      <th>27263</th>\n",
       "      <td>THINKSYSTEM SR250 E-2136 3.3G, 12MB 8GB</td>\n",
       "      <td>-1431.46</td>\n",
       "    </tr>\n",
       "    <tr>\n",
       "      <th>17610</th>\n",
       "      <td>EPYC MODEL 7551 32C 3.0G 64MB, 180W 2666MHZ</td>\n",
       "      <td>-1212.20</td>\n",
       "    </tr>\n",
       "    <tr>\n",
       "      <th>8294</th>\n",
       "      <td>3Y BASIC ONSITE TO 5Y PROSUPT,</td>\n",
       "      <td>-624.93</td>\n",
       "    </tr>\n",
       "    <tr>\n",
       "      <th>26654</th>\n",
       "      <td>SURFACE LAPTOP I7 512GB W/10PRO, OPEN BOX SEE ...</td>\n",
       "      <td>-553.74</td>\n",
       "    </tr>\n",
       "  </tbody>\n",
       "</table>\n",
       "</div>"
      ],
      "text/plain": [
       "                                             description  difference\n",
       "22458   OPTIFIBER PRO QUAD OTDR V2 W/, INSPECTION & WIFI    -4840.75\n",
       "27263            THINKSYSTEM SR250 E-2136 3.3G, 12MB 8GB    -1431.46\n",
       "17610        EPYC MODEL 7551 32C 3.0G 64MB, 180W 2666MHZ    -1212.20\n",
       "8294                      3Y BASIC ONSITE TO 5Y PROSUPT,     -624.93\n",
       "26654  SURFACE LAPTOP I7 512GB W/10PRO, OPEN BOX SEE ...     -553.74"
      ]
     },
     "execution_count": 77,
     "metadata": {},
     "output_type": "execute_result"
    }
   ],
   "source": [
    "df_sum_diff=df1.groupby('description',as_index=False)['difference'].sum().sort_values('difference',ascending=True)\n",
    "df_sum_diff.head()"
   ]
  },
  {
   "cell_type": "markdown",
   "id": "cddc4e24",
   "metadata": {},
   "source": [
    "4. Which is the product where you have seen an increase in the price?"
   ]
  },
  {
   "cell_type": "code",
   "execution_count": 78,
   "id": "35728073",
   "metadata": {},
   "outputs": [
    {
     "data": {
      "text/html": [
       "<div>\n",
       "<style scoped>\n",
       "    .dataframe tbody tr th:only-of-type {\n",
       "        vertical-align: middle;\n",
       "    }\n",
       "\n",
       "    .dataframe tbody tr th {\n",
       "        vertical-align: top;\n",
       "    }\n",
       "\n",
       "    .dataframe thead th {\n",
       "        text-align: right;\n",
       "    }\n",
       "</style>\n",
       "<table border=\"1\" class=\"dataframe\">\n",
       "  <thead>\n",
       "    <tr style=\"text-align: right;\">\n",
       "      <th></th>\n",
       "      <th>description</th>\n",
       "      <th>difference</th>\n",
       "    </tr>\n",
       "  </thead>\n",
       "  <tbody>\n",
       "    <tr>\n",
       "      <th>10637</th>\n",
       "      <td>5YR PROSUPPORT PLUS,</td>\n",
       "      <td>2013.43</td>\n",
       "    </tr>\n",
       "    <tr>\n",
       "      <th>8381</th>\n",
       "      <td>3YR PROSUPPORT PLUS,</td>\n",
       "      <td>1258.20</td>\n",
       "    </tr>\n",
       "    <tr>\n",
       "      <th>8380</th>\n",
       "      <td>3YR PROSUPPORT MISSION CRITICAL,</td>\n",
       "      <td>1194.13</td>\n",
       "    </tr>\n",
       "    <tr>\n",
       "      <th>8383</th>\n",
       "      <td>3YR PROSUPPORT,</td>\n",
       "      <td>923.94</td>\n",
       "    </tr>\n",
       "    <tr>\n",
       "      <th>4787</th>\n",
       "      <td>20PK 14000GB ULTRA SAS 7200RPM, 3.5IN 26.1MM 5...</td>\n",
       "      <td>880.00</td>\n",
       "    </tr>\n",
       "  </tbody>\n",
       "</table>\n",
       "</div>"
      ],
      "text/plain": [
       "                                             description  difference\n",
       "10637                               5YR PROSUPPORT PLUS,     2013.43\n",
       "8381                                3YR PROSUPPORT PLUS,     1258.20\n",
       "8380                    3YR PROSUPPORT MISSION CRITICAL,     1194.13\n",
       "8383                                     3YR PROSUPPORT,      923.94\n",
       "4787   20PK 14000GB ULTRA SAS 7200RPM, 3.5IN 26.1MM 5...      880.00"
      ]
     },
     "execution_count": 78,
     "metadata": {},
     "output_type": "execute_result"
    }
   ],
   "source": [
    "df_sum_diff=df1.groupby('description',as_index=False)['difference'].sum().sort_values('difference',ascending=False)\n",
    "df_sum_diff.head()"
   ]
  },
  {
   "cell_type": "markdown",
   "id": "385d4d66",
   "metadata": {},
   "source": [
    "5. Which is the top category by price and quantity?"
   ]
  },
  {
   "cell_type": "code",
   "execution_count": 79,
   "id": "48821fde",
   "metadata": {},
   "outputs": [
    {
     "data": {
      "text/html": [
       "<div>\n",
       "<style scoped>\n",
       "    .dataframe tbody tr th:only-of-type {\n",
       "        vertical-align: middle;\n",
       "    }\n",
       "\n",
       "    .dataframe tbody tr th {\n",
       "        vertical-align: top;\n",
       "    }\n",
       "\n",
       "    .dataframe thead th {\n",
       "        text-align: right;\n",
       "    }\n",
       "</style>\n",
       "<table border=\"1\" class=\"dataframe\">\n",
       "  <thead>\n",
       "    <tr style=\"text-align: right;\">\n",
       "      <th></th>\n",
       "      <th>category</th>\n",
       "      <th>price</th>\n",
       "    </tr>\n",
       "  </thead>\n",
       "  <tbody>\n",
       "    <tr>\n",
       "      <th>34</th>\n",
       "      <td>521</td>\n",
       "      <td>69729.03</td>\n",
       "    </tr>\n",
       "    <tr>\n",
       "      <th>17</th>\n",
       "      <td>295</td>\n",
       "      <td>40893.99</td>\n",
       "    </tr>\n",
       "    <tr>\n",
       "      <th>33</th>\n",
       "      <td>505</td>\n",
       "      <td>35554.13</td>\n",
       "    </tr>\n",
       "    <tr>\n",
       "      <th>40</th>\n",
       "      <td>661</td>\n",
       "      <td>23423.40</td>\n",
       "    </tr>\n",
       "    <tr>\n",
       "      <th>36</th>\n",
       "      <td>531</td>\n",
       "      <td>18251.60</td>\n",
       "    </tr>\n",
       "  </tbody>\n",
       "</table>\n",
       "</div>"
      ],
      "text/plain": [
       "    category     price\n",
       "34       521  69729.03\n",
       "17       295  40893.99\n",
       "33       505  35554.13\n",
       "40       661  23423.40\n",
       "36       531  18251.60"
      ]
     },
     "execution_count": 79,
     "metadata": {},
     "output_type": "execute_result"
    }
   ],
   "source": [
    "price_by_category=df1.groupby('category',as_index=False)['price'].max().sort_values('price',ascending=False)\n",
    "price_by_category.head()"
   ]
  },
  {
   "cell_type": "code",
   "execution_count": 80,
   "id": "39980d83",
   "metadata": {},
   "outputs": [
    {
     "data": {
      "text/html": [
       "<div>\n",
       "<style scoped>\n",
       "    .dataframe tbody tr th:only-of-type {\n",
       "        vertical-align: middle;\n",
       "    }\n",
       "\n",
       "    .dataframe tbody tr th {\n",
       "        vertical-align: top;\n",
       "    }\n",
       "\n",
       "    .dataframe thead th {\n",
       "        text-align: right;\n",
       "    }\n",
       "</style>\n",
       "<table border=\"1\" class=\"dataframe\">\n",
       "  <thead>\n",
       "    <tr style=\"text-align: right;\">\n",
       "      <th></th>\n",
       "      <th>category</th>\n",
       "      <th>qty</th>\n",
       "    </tr>\n",
       "  </thead>\n",
       "  <tbody>\n",
       "    <tr>\n",
       "      <th>50</th>\n",
       "      <td>1221</td>\n",
       "      <td>17378795</td>\n",
       "    </tr>\n",
       "    <tr>\n",
       "      <th>83</th>\n",
       "      <td>2220</td>\n",
       "      <td>12851216</td>\n",
       "    </tr>\n",
       "    <tr>\n",
       "      <th>131</th>\n",
       "      <td>9970</td>\n",
       "      <td>8618185</td>\n",
       "    </tr>\n",
       "    <tr>\n",
       "      <th>85</th>\n",
       "      <td>2240</td>\n",
       "      <td>8264370</td>\n",
       "    </tr>\n",
       "    <tr>\n",
       "      <th>93</th>\n",
       "      <td>3350</td>\n",
       "      <td>7068656</td>\n",
       "    </tr>\n",
       "  </tbody>\n",
       "</table>\n",
       "</div>"
      ],
      "text/plain": [
       "     category       qty\n",
       "50       1221  17378795\n",
       "83       2220  12851216\n",
       "131      9970   8618185\n",
       "85       2240   8264370\n",
       "93       3350   7068656"
      ]
     },
     "execution_count": 80,
     "metadata": {},
     "output_type": "execute_result"
    }
   ],
   "source": [
    "qty_by_category=df1.groupby('category',as_index=False)['qty'].sum().sort_values('qty',ascending=False)\n",
    "qty_by_category.head()"
   ]
  },
  {
   "cell_type": "markdown",
   "id": "a040e3a5",
   "metadata": {},
   "source": [
    "6. Which products are aging?"
   ]
  },
  {
   "cell_type": "code",
   "execution_count": 93,
   "id": "aab9e80c",
   "metadata": {},
   "outputs": [],
   "source": [
    "import datetime\n",
    "from datetime import date"
   ]
  },
  {
   "cell_type": "code",
   "execution_count": null,
   "id": "42cbb2ca",
   "metadata": {},
   "outputs": [],
   "source": [
    "products = list(df1['description'])\n",
    "df3 = pd.DataFrame(columns=['Product','Age'])\n",
    "for i in products:\n",
    "    data = df1[df1['description'] == i]\n",
    "    date1 = data.sku_create_date.min()\n",
    "    date2 = data.sku_create_date.max()\n",
    "    age = (date2-date1).days\n",
    "    df3 = df3.append({'Product': i,'Age': age},ignore_index = True)"
   ]
  },
  {
   "cell_type": "code",
   "execution_count": null,
   "id": "7b3cf027",
   "metadata": {},
   "outputs": [],
   "source": [
    "df3 = df3.sort_values('Age',ascending= False)\n",
    "df3.head()"
   ]
  },
  {
   "cell_type": "markdown",
   "id": "965d2e26",
   "metadata": {},
   "source": [
    "7. How to Decrease Product aging?"
   ]
  },
  {
   "cell_type": "markdown",
   "id": "8eb21346",
   "metadata": {},
   "source": [
    "Just-in-time methodology, first in first out"
   ]
  },
  {
   "cell_type": "markdown",
   "id": "295d165b",
   "metadata": {},
   "source": [
    "For Data Not in Stock\n",
    "-------------------------------"
   ]
  },
  {
   "cell_type": "markdown",
   "id": "8a760efb",
   "metadata": {},
   "source": [
    "8. Which are the top Manufacturers with price, quantity?"
   ]
  },
  {
   "cell_type": "code",
   "execution_count": 81,
   "id": "87f544fc",
   "metadata": {},
   "outputs": [
    {
     "data": {
      "text/html": [
       "<div>\n",
       "<style scoped>\n",
       "    .dataframe tbody tr th:only-of-type {\n",
       "        vertical-align: middle;\n",
       "    }\n",
       "\n",
       "    .dataframe tbody tr th {\n",
       "        vertical-align: top;\n",
       "    }\n",
       "\n",
       "    .dataframe thead th {\n",
       "        text-align: right;\n",
       "    }\n",
       "</style>\n",
       "<table border=\"1\" class=\"dataframe\">\n",
       "  <thead>\n",
       "    <tr style=\"text-align: right;\">\n",
       "      <th></th>\n",
       "      <th>manufacturer</th>\n",
       "      <th>price</th>\n",
       "    </tr>\n",
       "  </thead>\n",
       "  <tbody>\n",
       "    <tr>\n",
       "      <th>57</th>\n",
       "      <td>ALTNET</td>\n",
       "      <td>84974533.10</td>\n",
       "    </tr>\n",
       "    <tr>\n",
       "      <th>717</th>\n",
       "      <td>JUNIPER ROW SERVICES</td>\n",
       "      <td>10449000.00</td>\n",
       "    </tr>\n",
       "    <tr>\n",
       "      <th>709</th>\n",
       "      <td>JUNIPER ENTERPRISE ROUTING</td>\n",
       "      <td>5600000.00</td>\n",
       "    </tr>\n",
       "    <tr>\n",
       "      <th>231</th>\n",
       "      <td>CISCO - CCW MULTI YEAR</td>\n",
       "      <td>4700430.00</td>\n",
       "    </tr>\n",
       "    <tr>\n",
       "      <th>590</th>\n",
       "      <td>HPE - ENTERPRISE NETWORKING</td>\n",
       "      <td>4173518.27</td>\n",
       "    </tr>\n",
       "  </tbody>\n",
       "</table>\n",
       "</div>"
      ],
      "text/plain": [
       "                    manufacturer        price\n",
       "57                        ALTNET  84974533.10\n",
       "717         JUNIPER ROW SERVICES  10449000.00\n",
       "709   JUNIPER ENTERPRISE ROUTING   5600000.00\n",
       "231       CISCO - CCW MULTI YEAR   4700430.00\n",
       "590  HPE - ENTERPRISE NETWORKING   4173518.27"
      ]
     },
     "execution_count": 81,
     "metadata": {},
     "output_type": "execute_result"
    }
   ],
   "source": [
    "price_by_manufacturer2=df2.groupby('manufacturer',as_index=False)['price'].max().sort_values('price',ascending=False)\n",
    "price_by_manufacturer2.head()"
   ]
  },
  {
   "cell_type": "code",
   "execution_count": 110,
   "id": "80548dd3",
   "metadata": {},
   "outputs": [
    {
     "data": {
      "text/html": [
       "<div>\n",
       "<style scoped>\n",
       "    .dataframe tbody tr th:only-of-type {\n",
       "        vertical-align: middle;\n",
       "    }\n",
       "\n",
       "    .dataframe tbody tr th {\n",
       "        vertical-align: top;\n",
       "    }\n",
       "\n",
       "    .dataframe thead th {\n",
       "        text-align: right;\n",
       "    }\n",
       "</style>\n",
       "<table border=\"1\" class=\"dataframe\">\n",
       "  <thead>\n",
       "    <tr style=\"text-align: right;\">\n",
       "      <th></th>\n",
       "      <th>manufacturer</th>\n",
       "      <th>qty</th>\n",
       "    </tr>\n",
       "  </thead>\n",
       "  <tbody>\n",
       "    <tr>\n",
       "      <th>0</th>\n",
       "      <td>22MILES</td>\n",
       "      <td>0</td>\n",
       "    </tr>\n",
       "    <tr>\n",
       "      <th>977</th>\n",
       "      <td>PHOENIX AUDIO TECHNOLOGIES</td>\n",
       "      <td>0</td>\n",
       "    </tr>\n",
       "    <tr>\n",
       "      <th>953</th>\n",
       "      <td>PANASONIC PANABOARDS</td>\n",
       "      <td>0</td>\n",
       "    </tr>\n",
       "    <tr>\n",
       "      <th>952</th>\n",
       "      <td>PANASONIC FLAT PANEL DISPLAYS</td>\n",
       "      <td>0</td>\n",
       "    </tr>\n",
       "    <tr>\n",
       "      <th>951</th>\n",
       "      <td>PANASONIC CTO</td>\n",
       "      <td>0</td>\n",
       "    </tr>\n",
       "  </tbody>\n",
       "</table>\n",
       "</div>"
      ],
      "text/plain": [
       "                      manufacturer  qty\n",
       "0                          22MILES    0\n",
       "977     PHOENIX AUDIO TECHNOLOGIES    0\n",
       "953           PANASONIC PANABOARDS    0\n",
       "952  PANASONIC FLAT PANEL DISPLAYS    0\n",
       "951                  PANASONIC CTO    0"
      ]
     },
     "execution_count": 110,
     "metadata": {},
     "output_type": "execute_result"
    }
   ],
   "source": [
    "qty_by_manufacturer2=df2.groupby('manufacturer',as_index=False)['qty'].sum().sort_values('qty',ascending=False)\n",
    "qty_by_manufacturer2.head()"
   ]
  },
  {
   "cell_type": "markdown",
   "id": "de5ab239",
   "metadata": {},
   "source": [
    "9. Which are the most profitable products?"
   ]
  },
  {
   "cell_type": "code",
   "execution_count": 109,
   "id": "629d7393",
   "metadata": {
    "scrolled": true
   },
   "outputs": [
    {
     "data": {
      "text/html": [
       "<div>\n",
       "<style scoped>\n",
       "    .dataframe tbody tr th:only-of-type {\n",
       "        vertical-align: middle;\n",
       "    }\n",
       "\n",
       "    .dataframe tbody tr th {\n",
       "        vertical-align: top;\n",
       "    }\n",
       "\n",
       "    .dataframe thead th {\n",
       "        text-align: right;\n",
       "    }\n",
       "</style>\n",
       "<table border=\"1\" class=\"dataframe\">\n",
       "  <thead>\n",
       "    <tr style=\"text-align: right;\">\n",
       "      <th></th>\n",
       "      <th>description</th>\n",
       "      <th>price</th>\n",
       "    </tr>\n",
       "  </thead>\n",
       "  <tbody>\n",
       "    <tr>\n",
       "      <th>129283</th>\n",
       "      <td>ALTNET TPM UP TO 240000000 USD, LIST MNT UPTO ...</td>\n",
       "      <td>84974533.10</td>\n",
       "    </tr>\n",
       "    <tr>\n",
       "      <th>129756</th>\n",
       "      <td>ALTNET TPM UP TO 80000000 USD, LIST MNT UPTO 8...</td>\n",
       "      <td>28324844.37</td>\n",
       "    </tr>\n",
       "    <tr>\n",
       "      <th>251188</th>\n",
       "      <td>ROW 5YR SWA SUP FOR, JCE-1000GBPS</td>\n",
       "      <td>10449000.00</td>\n",
       "    </tr>\n",
       "    <tr>\n",
       "      <th>251184</th>\n",
       "      <td>ROW 3YR SWA SUP FOR, JCE-1000GBPS</td>\n",
       "      <td>6966000.00</td>\n",
       "    </tr>\n",
       "    <tr>\n",
       "      <th>8598</th>\n",
       "      <td>1000 UNIT BNDL OF, QSFP-100GBASE-LR4</td>\n",
       "      <td>5600000.00</td>\n",
       "    </tr>\n",
       "  </tbody>\n",
       "</table>\n",
       "</div>"
      ],
      "text/plain": [
       "                                              description        price\n",
       "129283  ALTNET TPM UP TO 240000000 USD, LIST MNT UPTO ...  84974533.10\n",
       "129756  ALTNET TPM UP TO 80000000 USD, LIST MNT UPTO 8...  28324844.37\n",
       "251188                  ROW 5YR SWA SUP FOR, JCE-1000GBPS  10449000.00\n",
       "251184                  ROW 3YR SWA SUP FOR, JCE-1000GBPS   6966000.00\n",
       "8598                 1000 UNIT BNDL OF, QSFP-100GBASE-LR4   5600000.00"
      ]
     },
     "execution_count": 109,
     "metadata": {},
     "output_type": "execute_result"
    }
   ],
   "source": [
    "most_profitable_products2=df2.groupby('description',as_index=False)['price'].max().sort_values('price',ascending=False)\n",
    "most_profitable_products2.head()"
   ]
  },
  {
   "cell_type": "markdown",
   "id": "f065dd3f",
   "metadata": {},
   "source": [
    "Based on the price, the most profitable products are listed above"
   ]
  },
  {
   "cell_type": "markdown",
   "id": "ff102084",
   "metadata": {},
   "source": [
    "10. Which is the product where you have seen a decrease in the price?"
   ]
  },
  {
   "cell_type": "code",
   "execution_count": 86,
   "id": "bc640a07",
   "metadata": {},
   "outputs": [
    {
     "data": {
      "text/html": [
       "<div>\n",
       "<style scoped>\n",
       "    .dataframe tbody tr th:only-of-type {\n",
       "        vertical-align: middle;\n",
       "    }\n",
       "\n",
       "    .dataframe tbody tr th {\n",
       "        vertical-align: top;\n",
       "    }\n",
       "\n",
       "    .dataframe thead th {\n",
       "        text-align: right;\n",
       "    }\n",
       "</style>\n",
       "<table border=\"1\" class=\"dataframe\">\n",
       "  <thead>\n",
       "    <tr style=\"text-align: right;\">\n",
       "      <th></th>\n",
       "      <th>category</th>\n",
       "      <th>manufacturer</th>\n",
       "      <th>part_number</th>\n",
       "      <th>sku</th>\n",
       "      <th>alt_sku</th>\n",
       "      <th>description</th>\n",
       "      <th>status</th>\n",
       "      <th>qty</th>\n",
       "      <th>price</th>\n",
       "      <th>sku_create_date</th>\n",
       "      <th>profit</th>\n",
       "    </tr>\n",
       "  </thead>\n",
       "  <tbody>\n",
       "    <tr>\n",
       "      <th>425544</th>\n",
       "      <td>32</td>\n",
       "      <td>SUPERMICRO - COMPONENTS</td>\n",
       "      <td>SYS-6017R-WTRFTP+</td>\n",
       "      <td>1F4786</td>\n",
       "      <td>NaN</td>\n",
       "      <td>[NR]X9DRW-ITPF + AND, CSE-819TQ-R700WB</td>\n",
       "      <td>No Stock</td>\n",
       "      <td>0</td>\n",
       "      <td>1221.72</td>\n",
       "      <td>2020-08-17</td>\n",
       "      <td>0.0</td>\n",
       "    </tr>\n",
       "    <tr>\n",
       "      <th>1690526</th>\n",
       "      <td>32</td>\n",
       "      <td>SUPERMICRO - COMPONENTS</td>\n",
       "      <td>SYS-6017R-WTRFTP+</td>\n",
       "      <td>1F4786</td>\n",
       "      <td>NaN</td>\n",
       "      <td>[NR]X9DRW-ITPF + AND, CSE-819TQ-R700WB</td>\n",
       "      <td>No Stock</td>\n",
       "      <td>0</td>\n",
       "      <td>1221.72</td>\n",
       "      <td>2020-08-24</td>\n",
       "      <td>0.0</td>\n",
       "    </tr>\n",
       "    <tr>\n",
       "      <th>444510</th>\n",
       "      <td>5</td>\n",
       "      <td>SUPERMICRO - COMPONENTS</td>\n",
       "      <td>HNW0-15026364-HADP</td>\n",
       "      <td>1V3117</td>\n",
       "      <td>NaN</td>\n",
       "      <td>[NR]X9DRW-IF CSE-815TQ-R500WB,</td>\n",
       "      <td>No Stock</td>\n",
       "      <td>0</td>\n",
       "      <td>4109.53</td>\n",
       "      <td>2020-08-17</td>\n",
       "      <td>0.0</td>\n",
       "    </tr>\n",
       "    <tr>\n",
       "      <th>1709345</th>\n",
       "      <td>5</td>\n",
       "      <td>SUPERMICRO - COMPONENTS</td>\n",
       "      <td>HNW0-15026364-HADP</td>\n",
       "      <td>1V3117</td>\n",
       "      <td>NaN</td>\n",
       "      <td>[NR]X9DRW-IF CSE-815TQ-R500WB,</td>\n",
       "      <td>No Stock</td>\n",
       "      <td>0</td>\n",
       "      <td>4109.53</td>\n",
       "      <td>2020-08-24</td>\n",
       "      <td>0.0</td>\n",
       "    </tr>\n",
       "    <tr>\n",
       "      <th>444511</th>\n",
       "      <td>32</td>\n",
       "      <td>SUPERMICRO - COMPONENTS</td>\n",
       "      <td>HNWX-19026364-HADP</td>\n",
       "      <td>1V3118</td>\n",
       "      <td>NaN</td>\n",
       "      <td>[NR]X9DRW-7TPF 819TQ-R700WB,</td>\n",
       "      <td>No Stock</td>\n",
       "      <td>0</td>\n",
       "      <td>4094.95</td>\n",
       "      <td>2020-08-17</td>\n",
       "      <td>0.0</td>\n",
       "    </tr>\n",
       "  </tbody>\n",
       "</table>\n",
       "</div>"
      ],
      "text/plain": [
       "         category             manufacturer         part_number     sku  \\\n",
       "425544         32  SUPERMICRO - COMPONENTS   SYS-6017R-WTRFTP+  1F4786   \n",
       "1690526        32  SUPERMICRO - COMPONENTS   SYS-6017R-WTRFTP+  1F4786   \n",
       "444510          5  SUPERMICRO - COMPONENTS  HNW0-15026364-HADP  1V3117   \n",
       "1709345         5  SUPERMICRO - COMPONENTS  HNW0-15026364-HADP  1V3117   \n",
       "444511         32  SUPERMICRO - COMPONENTS  HNWX-19026364-HADP  1V3118   \n",
       "\n",
       "        alt_sku                             description    status  qty  \\\n",
       "425544      NaN  [NR]X9DRW-ITPF + AND, CSE-819TQ-R700WB  No Stock    0   \n",
       "1690526     NaN  [NR]X9DRW-ITPF + AND, CSE-819TQ-R700WB  No Stock    0   \n",
       "444510      NaN          [NR]X9DRW-IF CSE-815TQ-R500WB,  No Stock    0   \n",
       "1709345     NaN          [NR]X9DRW-IF CSE-815TQ-R500WB,  No Stock    0   \n",
       "444511      NaN            [NR]X9DRW-7TPF 819TQ-R700WB,  No Stock    0   \n",
       "\n",
       "           price sku_create_date  profit  \n",
       "425544   1221.72      2020-08-17     0.0  \n",
       "1690526  1221.72      2020-08-24     0.0  \n",
       "444510   4109.53      2020-08-17     0.0  \n",
       "1709345  4109.53      2020-08-24     0.0  \n",
       "444511   4094.95      2020-08-17     0.0  "
      ]
     },
     "execution_count": 86,
     "metadata": {},
     "output_type": "execute_result"
    }
   ],
   "source": [
    "df2=df2.sort_values(['description','sku_create_date'],ascending=(False,True))\n",
    "df2.head()"
   ]
  },
  {
   "cell_type": "code",
   "execution_count": 87,
   "id": "6f9bb378",
   "metadata": {},
   "outputs": [
    {
     "name": "stdout",
     "output_type": "stream",
     "text": [
      "         category             manufacturer         part_number     sku  \\\n",
      "425544         32  SUPERMICRO - COMPONENTS   SYS-6017R-WTRFTP+  1F4786   \n",
      "1690526        32  SUPERMICRO - COMPONENTS   SYS-6017R-WTRFTP+  1F4786   \n",
      "444510          5  SUPERMICRO - COMPONENTS  HNW0-15026364-HADP  1V3117   \n",
      "1709345         5  SUPERMICRO - COMPONENTS  HNW0-15026364-HADP  1V3117   \n",
      "444511         32  SUPERMICRO - COMPONENTS  HNWX-19026364-HADP  1V3118   \n",
      "...           ...                      ...                 ...     ...   \n",
      "912135       1241       IBM - POWER SYSTEM       9179-MHU-EPJ2  6CP693   \n",
      "2176365      1241       IBM - POWER SYSTEM       9179-MHD-EPJ2  6CP692   \n",
      "2176366      1241       IBM - POWER SYSTEM       9179-MHU-EPJ2  6CP693   \n",
      "847547       1241       IBM - POWER SYSTEM       9009-41A-ELZE  5XD305   \n",
      "2111796      1241       IBM - POWER SYSTEM       9009-41A-ELZE  5XD305   \n",
      "\n",
      "        alt_sku                                        description    status  \\\n",
      "425544      NaN             [NR]X9DRW-ITPF + AND, CSE-819TQ-R700WB  No Stock   \n",
      "1690526     NaN             [NR]X9DRW-ITPF + AND, CSE-819TQ-R700WB  No Stock   \n",
      "444510      NaN                     [NR]X9DRW-IF CSE-815TQ-R500WB,  No Stock   \n",
      "1709345     NaN                     [NR]X9DRW-IF CSE-815TQ-R500WB,  No Stock   \n",
      "444511      NaN                       [NR]X9DRW-7TPF 819TQ-R700WB,  No Stock   \n",
      "...         ...                                                ...       ...   \n",
      "912135      NaN  $0 24 PROC DAYS OF ON OFF COD T, EMPORARY PROC...  No Stock   \n",
      "2176365     NaN  $0 24 PROC DAYS OF ON OFF COD T, EMPORARY PROC...  No Stock   \n",
      "2176366     NaN  $0 24 PROC DAYS OF ON OFF COD T, EMPORARY PROC...  No Stock   \n",
      "847547      NaN                         #ESGE LOAD SOURCE SPECIFY,  No Stock   \n",
      "2111796     NaN                         #ESGE LOAD SOURCE SPECIFY,  No Stock   \n",
      "\n",
      "         qty    price sku_create_date  profit  difference  \n",
      "425544     0  1221.72      2020-08-17     0.0         0.0  \n",
      "1690526    0  1221.72      2020-08-24     0.0         0.0  \n",
      "444510     0  4109.53      2020-08-17     0.0         0.0  \n",
      "1709345    0  4109.53      2020-08-24     0.0         0.0  \n",
      "444511     0  4094.95      2020-08-17     0.0         0.0  \n",
      "...      ...      ...             ...     ...         ...  \n",
      "912135     0     0.01      2020-08-17     0.0         0.0  \n",
      "2176365    0     0.01      2020-08-24     0.0         0.0  \n",
      "2176366    0     0.01      2020-08-24     0.0         0.0  \n",
      "847547     0     0.01      2020-08-17     0.0         0.0  \n",
      "2111796    0     0.01      2020-08-24     0.0         0.0  \n",
      "\n",
      "[1914138 rows x 12 columns]\n"
     ]
    }
   ],
   "source": [
    "df2['difference'] = df2.groupby('description')['price'].diff().fillna(0)\n",
    "print(df2)"
   ]
  },
  {
   "cell_type": "code",
   "execution_count": 88,
   "id": "3f4fa68a",
   "metadata": {},
   "outputs": [
    {
     "data": {
      "text/html": [
       "<div>\n",
       "<style scoped>\n",
       "    .dataframe tbody tr th:only-of-type {\n",
       "        vertical-align: middle;\n",
       "    }\n",
       "\n",
       "    .dataframe tbody tr th {\n",
       "        vertical-align: top;\n",
       "    }\n",
       "\n",
       "    .dataframe thead th {\n",
       "        text-align: right;\n",
       "    }\n",
       "</style>\n",
       "<table border=\"1\" class=\"dataframe\">\n",
       "  <thead>\n",
       "    <tr style=\"text-align: right;\">\n",
       "      <th></th>\n",
       "      <th>description</th>\n",
       "      <th>difference</th>\n",
       "    </tr>\n",
       "  </thead>\n",
       "  <tbody>\n",
       "    <tr>\n",
       "      <th>154656</th>\n",
       "      <td>CCW ONLY SWSS UPG 3YR DISTI, TR-069 MGMT FOR 6...</td>\n",
       "      <td>-2157547.75</td>\n",
       "    </tr>\n",
       "    <tr>\n",
       "      <th>186527</th>\n",
       "      <td>DIRECTLIGHT 24X6, DL2 0.9 ROOM 250</td>\n",
       "      <td>-1884383.25</td>\n",
       "    </tr>\n",
       "    <tr>\n",
       "      <th>154600</th>\n",
       "      <td>CCW ONLY SWSS UPG 3YR DISTI, SO=INTELL AUTOCLD...</td>\n",
       "      <td>-879480.00</td>\n",
       "    </tr>\n",
       "    <tr>\n",
       "      <th>238280</th>\n",
       "      <td>QUANTITY 150 OF ES0H 775GB SSD, SFF 2</td>\n",
       "      <td>-868054.30</td>\n",
       "    </tr>\n",
       "    <tr>\n",
       "      <th>238325</th>\n",
       "      <td>QUANTITY 150 OF ESGP 1 55TB SAS, 4K</td>\n",
       "      <td>-780127.17</td>\n",
       "    </tr>\n",
       "  </tbody>\n",
       "</table>\n",
       "</div>"
      ],
      "text/plain": [
       "                                              description  difference\n",
       "154656  CCW ONLY SWSS UPG 3YR DISTI, TR-069 MGMT FOR 6... -2157547.75\n",
       "186527                 DIRECTLIGHT 24X6, DL2 0.9 ROOM 250 -1884383.25\n",
       "154600  CCW ONLY SWSS UPG 3YR DISTI, SO=INTELL AUTOCLD...  -879480.00\n",
       "238280              QUANTITY 150 OF ES0H 775GB SSD, SFF 2  -868054.30\n",
       "238325                QUANTITY 150 OF ESGP 1 55TB SAS, 4K  -780127.17"
      ]
     },
     "execution_count": 88,
     "metadata": {},
     "output_type": "execute_result"
    }
   ],
   "source": [
    "df_sum_diff2=df2.groupby('description',as_index=False)['difference'].sum().sort_values('difference',ascending=True)\n",
    "df_sum_diff2.head()"
   ]
  },
  {
   "cell_type": "markdown",
   "id": "b67ab7e4",
   "metadata": {},
   "source": [
    "11. Which is the product where you have seen an increase in the price?"
   ]
  },
  {
   "cell_type": "code",
   "execution_count": 89,
   "id": "4ac2fdee",
   "metadata": {},
   "outputs": [
    {
     "data": {
      "text/html": [
       "<div>\n",
       "<style scoped>\n",
       "    .dataframe tbody tr th:only-of-type {\n",
       "        vertical-align: middle;\n",
       "    }\n",
       "\n",
       "    .dataframe tbody tr th {\n",
       "        vertical-align: top;\n",
       "    }\n",
       "\n",
       "    .dataframe thead th {\n",
       "        text-align: right;\n",
       "    }\n",
       "</style>\n",
       "<table border=\"1\" class=\"dataframe\">\n",
       "  <thead>\n",
       "    <tr style=\"text-align: right;\">\n",
       "      <th></th>\n",
       "      <th>description</th>\n",
       "      <th>difference</th>\n",
       "    </tr>\n",
       "  </thead>\n",
       "  <tbody>\n",
       "    <tr>\n",
       "      <th>154656</th>\n",
       "      <td>CCW ONLY SWSS UPG 3YR DISTI, TR-069 MGMT FOR 6...</td>\n",
       "      <td>-2157547.75</td>\n",
       "    </tr>\n",
       "    <tr>\n",
       "      <th>186527</th>\n",
       "      <td>DIRECTLIGHT 24X6, DL2 0.9 ROOM 250</td>\n",
       "      <td>-1884383.25</td>\n",
       "    </tr>\n",
       "    <tr>\n",
       "      <th>154600</th>\n",
       "      <td>CCW ONLY SWSS UPG 3YR DISTI, SO=INTELL AUTOCLD...</td>\n",
       "      <td>-879480.00</td>\n",
       "    </tr>\n",
       "    <tr>\n",
       "      <th>238280</th>\n",
       "      <td>QUANTITY 150 OF ES0H 775GB SSD, SFF 2</td>\n",
       "      <td>-868054.30</td>\n",
       "    </tr>\n",
       "    <tr>\n",
       "      <th>238325</th>\n",
       "      <td>QUANTITY 150 OF ESGP 1 55TB SAS, 4K</td>\n",
       "      <td>-780127.17</td>\n",
       "    </tr>\n",
       "  </tbody>\n",
       "</table>\n",
       "</div>"
      ],
      "text/plain": [
       "                                              description  difference\n",
       "154656  CCW ONLY SWSS UPG 3YR DISTI, TR-069 MGMT FOR 6... -2157547.75\n",
       "186527                 DIRECTLIGHT 24X6, DL2 0.9 ROOM 250 -1884383.25\n",
       "154600  CCW ONLY SWSS UPG 3YR DISTI, SO=INTELL AUTOCLD...  -879480.00\n",
       "238280              QUANTITY 150 OF ES0H 775GB SSD, SFF 2  -868054.30\n",
       "238325                QUANTITY 150 OF ESGP 1 55TB SAS, 4K  -780127.17"
      ]
     },
     "execution_count": 89,
     "metadata": {},
     "output_type": "execute_result"
    }
   ],
   "source": [
    "df_sum_diff=df2.groupby('description',as_index=False)['difference'].sum().sort_values('difference',ascending=False)\n",
    "df_sum_diff2.head()"
   ]
  },
  {
   "cell_type": "markdown",
   "id": "430026c1",
   "metadata": {},
   "source": [
    "12. Which is the top category by price and quantity?"
   ]
  },
  {
   "cell_type": "code",
   "execution_count": 90,
   "id": "c8405e61",
   "metadata": {},
   "outputs": [
    {
     "data": {
      "text/html": [
       "<div>\n",
       "<style scoped>\n",
       "    .dataframe tbody tr th:only-of-type {\n",
       "        vertical-align: middle;\n",
       "    }\n",
       "\n",
       "    .dataframe tbody tr th {\n",
       "        vertical-align: top;\n",
       "    }\n",
       "\n",
       "    .dataframe thead th {\n",
       "        text-align: right;\n",
       "    }\n",
       "</style>\n",
       "<table border=\"1\" class=\"dataframe\">\n",
       "  <thead>\n",
       "    <tr style=\"text-align: right;\">\n",
       "      <th></th>\n",
       "      <th>category</th>\n",
       "      <th>price</th>\n",
       "    </tr>\n",
       "  </thead>\n",
       "  <tbody>\n",
       "    <tr>\n",
       "      <th>54</th>\n",
       "      <td>1231</td>\n",
       "      <td>84974533.10</td>\n",
       "    </tr>\n",
       "    <tr>\n",
       "      <th>55</th>\n",
       "      <td>1241</td>\n",
       "      <td>10449000.00</td>\n",
       "    </tr>\n",
       "    <tr>\n",
       "      <th>53</th>\n",
       "      <td>1221</td>\n",
       "      <td>4700430.00</td>\n",
       "    </tr>\n",
       "    <tr>\n",
       "      <th>72</th>\n",
       "      <td>1577</td>\n",
       "      <td>4173518.27</td>\n",
       "    </tr>\n",
       "    <tr>\n",
       "      <th>61</th>\n",
       "      <td>1512</td>\n",
       "      <td>3609856.25</td>\n",
       "    </tr>\n",
       "  </tbody>\n",
       "</table>\n",
       "</div>"
      ],
      "text/plain": [
       "    category        price\n",
       "54      1231  84974533.10\n",
       "55      1241  10449000.00\n",
       "53      1221   4700430.00\n",
       "72      1577   4173518.27\n",
       "61      1512   3609856.25"
      ]
     },
     "execution_count": 90,
     "metadata": {},
     "output_type": "execute_result"
    }
   ],
   "source": [
    "price_by_category2=df2.groupby('category',as_index=False)['price'].max().sort_values('price',ascending=False)\n",
    "price_by_category2.head()"
   ]
  },
  {
   "cell_type": "code",
   "execution_count": 91,
   "id": "8d287299",
   "metadata": {},
   "outputs": [
    {
     "data": {
      "text/html": [
       "<div>\n",
       "<style scoped>\n",
       "    .dataframe tbody tr th:only-of-type {\n",
       "        vertical-align: middle;\n",
       "    }\n",
       "\n",
       "    .dataframe tbody tr th {\n",
       "        vertical-align: top;\n",
       "    }\n",
       "\n",
       "    .dataframe thead th {\n",
       "        text-align: right;\n",
       "    }\n",
       "</style>\n",
       "<table border=\"1\" class=\"dataframe\">\n",
       "  <thead>\n",
       "    <tr style=\"text-align: right;\">\n",
       "      <th></th>\n",
       "      <th>category</th>\n",
       "      <th>qty</th>\n",
       "    </tr>\n",
       "  </thead>\n",
       "  <tbody>\n",
       "    <tr>\n",
       "      <th>0</th>\n",
       "      <td>1</td>\n",
       "      <td>0</td>\n",
       "    </tr>\n",
       "    <tr>\n",
       "      <th>105</th>\n",
       "      <td>3370</td>\n",
       "      <td>0</td>\n",
       "    </tr>\n",
       "    <tr>\n",
       "      <th>98</th>\n",
       "      <td>3001</td>\n",
       "      <td>0</td>\n",
       "    </tr>\n",
       "    <tr>\n",
       "      <th>99</th>\n",
       "      <td>3002</td>\n",
       "      <td>0</td>\n",
       "    </tr>\n",
       "    <tr>\n",
       "      <th>100</th>\n",
       "      <td>3320</td>\n",
       "      <td>0</td>\n",
       "    </tr>\n",
       "  </tbody>\n",
       "</table>\n",
       "</div>"
      ],
      "text/plain": [
       "     category  qty\n",
       "0           1    0\n",
       "105      3370    0\n",
       "98       3001    0\n",
       "99       3002    0\n",
       "100      3320    0"
      ]
     },
     "execution_count": 91,
     "metadata": {},
     "output_type": "execute_result"
    }
   ],
   "source": [
    "qty_by_category2=df2.groupby('category',as_index=False)['qty'].sum().sort_values('qty',ascending=False)\n",
    "qty_by_category2.head()"
   ]
  }
 ],
 "metadata": {
  "kernelspec": {
   "display_name": "Python 3",
   "language": "python",
   "name": "python3"
  },
  "language_info": {
   "codemirror_mode": {
    "name": "ipython",
    "version": 3
   },
   "file_extension": ".py",
   "mimetype": "text/x-python",
   "name": "python",
   "nbconvert_exporter": "python",
   "pygments_lexer": "ipython3",
   "version": "3.8.8"
  }
 },
 "nbformat": 4,
 "nbformat_minor": 5
}
